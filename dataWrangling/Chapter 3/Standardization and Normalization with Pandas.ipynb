{
 "cells": [
  {
   "cell_type": "code",
   "execution_count": 1,
   "metadata": {
    "collapsed": false
   },
   "outputs": [
    {
     "name": "stdout",
     "output_type": "stream",
     "text": [
      "Populating the interactive namespace from numpy and matplotlib\n"
     ]
    }
   ],
   "source": [
    "%pylab inline"
   ]
  },
  {
   "cell_type": "code",
   "execution_count": 2,
   "metadata": {
    "collapsed": true
   },
   "outputs": [],
   "source": [
    "import pandas as pd"
   ]
  },
  {
   "cell_type": "code",
   "execution_count": 3,
   "metadata": {
    "collapsed": true
   },
   "outputs": [],
   "source": [
    "import numpy as np"
   ]
  },
  {
   "cell_type": "code",
   "execution_count": 4,
   "metadata": {
    "collapsed": true
   },
   "outputs": [],
   "source": [
    "df = pd.read_csv('data/eu_trade_sums.csv')"
   ]
  },
  {
   "cell_type": "code",
   "execution_count": 5,
   "metadata": {
    "collapsed": true
   },
   "outputs": [],
   "source": [
    "df = df.set_index('geo')"
   ]
  },
  {
   "cell_type": "code",
   "execution_count": 6,
   "metadata": {
    "collapsed": false
   },
   "outputs": [
    {
     "data": {
      "text/html": [
       "<div>\n",
       "<table border=\"1\" class=\"dataframe\">\n",
       "  <thead>\n",
       "    <tr style=\"text-align: right;\">\n",
       "      <th></th>\n",
       "      <th>trade_type</th>\n",
       "      <th>partner</th>\n",
       "      <th>2015</th>\n",
       "      <th>2014</th>\n",
       "      <th>2013</th>\n",
       "      <th>2012</th>\n",
       "      <th>2011</th>\n",
       "      <th>2010</th>\n",
       "      <th>2009</th>\n",
       "      <th>2008</th>\n",
       "      <th>2007</th>\n",
       "      <th>2006</th>\n",
       "      <th>2005</th>\n",
       "      <th>2004</th>\n",
       "      <th>2003</th>\n",
       "      <th>2002</th>\n",
       "      <th>2001</th>\n",
       "      <th>2000</th>\n",
       "      <th>1999</th>\n",
       "    </tr>\n",
       "    <tr>\n",
       "      <th>geo</th>\n",
       "      <th></th>\n",
       "      <th></th>\n",
       "      <th></th>\n",
       "      <th></th>\n",
       "      <th></th>\n",
       "      <th></th>\n",
       "      <th></th>\n",
       "      <th></th>\n",
       "      <th></th>\n",
       "      <th></th>\n",
       "      <th></th>\n",
       "      <th></th>\n",
       "      <th></th>\n",
       "      <th></th>\n",
       "      <th></th>\n",
       "      <th></th>\n",
       "      <th></th>\n",
       "      <th></th>\n",
       "      <th></th>\n",
       "    </tr>\n",
       "  </thead>\n",
       "  <tbody>\n",
       "    <tr>\n",
       "      <th>AT</th>\n",
       "      <td>Export</td>\n",
       "      <td>EU28</td>\n",
       "      <td>193043.0</td>\n",
       "      <td>187548.0</td>\n",
       "      <td>184865.0</td>\n",
       "      <td>181689.0</td>\n",
       "      <td>181889.0</td>\n",
       "      <td>166299.0</td>\n",
       "      <td>143052.0</td>\n",
       "      <td>181180.0</td>\n",
       "      <td>176327.0</td>\n",
       "      <td>159517.0</td>\n",
       "      <td>147064.0</td>\n",
       "      <td>142481.0</td>\n",
       "      <td>131439.0</td>\n",
       "      <td>126666.0</td>\n",
       "      <td>NaN</td>\n",
       "      <td>NaN</td>\n",
       "      <td>NaN</td>\n",
       "    </tr>\n",
       "    <tr>\n",
       "      <th>AT</th>\n",
       "      <td>Export</td>\n",
       "      <td>EXT_EU28</td>\n",
       "      <td>82468.0</td>\n",
       "      <td>80797.0</td>\n",
       "      <td>78903.0</td>\n",
       "      <td>77668.0</td>\n",
       "      <td>73038.0</td>\n",
       "      <td>63858.0</td>\n",
       "      <td>53376.0</td>\n",
       "      <td>65339.0</td>\n",
       "      <td>62447.0</td>\n",
       "      <td>58309.0</td>\n",
       "      <td>53871.0</td>\n",
       "      <td>46923.0</td>\n",
       "      <td>40317.0</td>\n",
       "      <td>39731.0</td>\n",
       "      <td>NaN</td>\n",
       "      <td>NaN</td>\n",
       "      <td>NaN</td>\n",
       "    </tr>\n",
       "    <tr>\n",
       "      <th>AT</th>\n",
       "      <td>Import</td>\n",
       "      <td>EU28</td>\n",
       "      <td>215023.0</td>\n",
       "      <td>210492.0</td>\n",
       "      <td>211444.0</td>\n",
       "      <td>212546.0</td>\n",
       "      <td>212734.0</td>\n",
       "      <td>187011.0</td>\n",
       "      <td>160875.0</td>\n",
       "      <td>197137.0</td>\n",
       "      <td>190105.0</td>\n",
       "      <td>175463.0</td>\n",
       "      <td>165908.0</td>\n",
       "      <td>160883.0</td>\n",
       "      <td>144982.0</td>\n",
       "      <td>134624.0</td>\n",
       "      <td>NaN</td>\n",
       "      <td>NaN</td>\n",
       "      <td>NaN</td>\n",
       "    </tr>\n",
       "    <tr>\n",
       "      <th>AT</th>\n",
       "      <td>Import</td>\n",
       "      <td>EXT_EU28</td>\n",
       "      <td>65242.0</td>\n",
       "      <td>63511.0</td>\n",
       "      <td>64554.0</td>\n",
       "      <td>65337.0</td>\n",
       "      <td>62293.0</td>\n",
       "      <td>52877.0</td>\n",
       "      <td>44262.0</td>\n",
       "      <td>53467.0</td>\n",
       "      <td>47817.0</td>\n",
       "      <td>43097.0</td>\n",
       "      <td>38657.0</td>\n",
       "      <td>31628.0</td>\n",
       "      <td>30994.0</td>\n",
       "      <td>30983.0</td>\n",
       "      <td>NaN</td>\n",
       "      <td>NaN</td>\n",
       "      <td>NaN</td>\n",
       "    </tr>\n",
       "    <tr>\n",
       "      <th>BE</th>\n",
       "      <td>Export</td>\n",
       "      <td>EU28</td>\n",
       "      <td>517836.0</td>\n",
       "      <td>502888.0</td>\n",
       "      <td>495145.0</td>\n",
       "      <td>486102.0</td>\n",
       "      <td>492083.0</td>\n",
       "      <td>449191.0</td>\n",
       "      <td>402557.0</td>\n",
       "      <td>493688.0</td>\n",
       "      <td>478972.0</td>\n",
       "      <td>446775.0</td>\n",
       "      <td>412912.0</td>\n",
       "      <td>380546.0</td>\n",
       "      <td>349210.0</td>\n",
       "      <td>345248.0</td>\n",
       "      <td>NaN</td>\n",
       "      <td>NaN</td>\n",
       "      <td>NaN</td>\n",
       "    </tr>\n",
       "  </tbody>\n",
       "</table>\n",
       "</div>"
      ],
      "text/plain": [
       "    trade_type   partner      2015      2014      2013      2012      2011  \\\n",
       "geo                                                                          \n",
       "AT      Export      EU28  193043.0  187548.0  184865.0  181689.0  181889.0   \n",
       "AT      Export  EXT_EU28   82468.0   80797.0   78903.0   77668.0   73038.0   \n",
       "AT      Import      EU28  215023.0  210492.0  211444.0  212546.0  212734.0   \n",
       "AT      Import  EXT_EU28   65242.0   63511.0   64554.0   65337.0   62293.0   \n",
       "BE      Export      EU28  517836.0  502888.0  495145.0  486102.0  492083.0   \n",
       "\n",
       "         2010      2009      2008      2007      2006      2005      2004  \\\n",
       "geo                                                                         \n",
       "AT   166299.0  143052.0  181180.0  176327.0  159517.0  147064.0  142481.0   \n",
       "AT    63858.0   53376.0   65339.0   62447.0   58309.0   53871.0   46923.0   \n",
       "AT   187011.0  160875.0  197137.0  190105.0  175463.0  165908.0  160883.0   \n",
       "AT    52877.0   44262.0   53467.0   47817.0   43097.0   38657.0   31628.0   \n",
       "BE   449191.0  402557.0  493688.0  478972.0  446775.0  412912.0  380546.0   \n",
       "\n",
       "         2003      2002  2001  2000  1999  \n",
       "geo                                        \n",
       "AT   131439.0  126666.0   NaN   NaN   NaN  \n",
       "AT    40317.0   39731.0   NaN   NaN   NaN  \n",
       "AT   144982.0  134624.0   NaN   NaN   NaN  \n",
       "AT    30994.0   30983.0   NaN   NaN   NaN  \n",
       "BE   349210.0  345248.0   NaN   NaN   NaN  "
      ]
     },
     "execution_count": 6,
     "metadata": {},
     "output_type": "execute_result"
    }
   ],
   "source": [
    "df.head()"
   ]
  },
  {
   "cell_type": "code",
   "execution_count": 7,
   "metadata": {
    "collapsed": false
   },
   "outputs": [
    {
     "data": {
      "text/plain": [
       "array(['AT', 'BE', 'BG', 'CY', 'CZ', 'DE', 'DK', 'EE', 'EL', 'ES', 'EU28',\n",
       "       'FI', 'FR', 'HR', 'HU', 'IE', 'IT', 'LT', 'LU', 'LV', 'MT', 'NL',\n",
       "       'PL', 'PT', 'RO', 'SE', 'SI', 'SK', 'UK'], dtype=object)"
      ]
     },
     "execution_count": 7,
     "metadata": {},
     "output_type": "execute_result"
    }
   ],
   "source": [
    "np.unique(df.index)"
   ]
  },
  {
   "cell_type": "code",
   "execution_count": 8,
   "metadata": {
    "collapsed": true
   },
   "outputs": [],
   "source": [
    "df = df.drop('EU28')"
   ]
  },
  {
   "cell_type": "code",
   "execution_count": 9,
   "metadata": {
    "collapsed": true
   },
   "outputs": [],
   "source": [
    "means = df.groupby(['trade_type', 'partner']).transform(np.mean)"
   ]
  },
  {
   "cell_type": "code",
   "execution_count": 10,
   "metadata": {
    "collapsed": true
   },
   "outputs": [],
   "source": [
    "std_dev = df.groupby(['trade_type', 'partner']).transform(np.std)"
   ]
  },
  {
   "cell_type": "code",
   "execution_count": 11,
   "metadata": {
    "collapsed": true
   },
   "outputs": [],
   "source": [
    "std_df = df.copy()"
   ]
  },
  {
   "cell_type": "code",
   "execution_count": 12,
   "metadata": {
    "collapsed": false
   },
   "outputs": [
    {
     "name": "stdout",
     "output_type": "stream",
     "text": [
      "'trade_type'\n",
      "'partner'\n"
     ]
    }
   ],
   "source": [
    "for col in df.columns:\n",
    "    try:\n",
    "        std_df[col] = (df[col] - means[col]) / std_dev[col]\n",
    "    except Exception as e:\n",
    "        print(e)"
   ]
  },
  {
   "cell_type": "code",
   "execution_count": 13,
   "metadata": {
    "collapsed": false
   },
   "outputs": [
    {
     "data": {
      "text/html": [
       "<div>\n",
       "<table border=\"1\" class=\"dataframe\">\n",
       "  <thead>\n",
       "    <tr style=\"text-align: right;\">\n",
       "      <th></th>\n",
       "      <th>trade_type</th>\n",
       "      <th>partner</th>\n",
       "      <th>2015</th>\n",
       "      <th>2014</th>\n",
       "      <th>2013</th>\n",
       "      <th>2012</th>\n",
       "      <th>2011</th>\n",
       "      <th>2010</th>\n",
       "      <th>2009</th>\n",
       "      <th>2008</th>\n",
       "      <th>2007</th>\n",
       "      <th>2006</th>\n",
       "      <th>2005</th>\n",
       "      <th>2004</th>\n",
       "      <th>2003</th>\n",
       "      <th>2002</th>\n",
       "      <th>2001</th>\n",
       "      <th>2000</th>\n",
       "      <th>1999</th>\n",
       "    </tr>\n",
       "    <tr>\n",
       "      <th>geo</th>\n",
       "      <th></th>\n",
       "      <th></th>\n",
       "      <th></th>\n",
       "      <th></th>\n",
       "      <th></th>\n",
       "      <th></th>\n",
       "      <th></th>\n",
       "      <th></th>\n",
       "      <th></th>\n",
       "      <th></th>\n",
       "      <th></th>\n",
       "      <th></th>\n",
       "      <th></th>\n",
       "      <th></th>\n",
       "      <th></th>\n",
       "      <th></th>\n",
       "      <th></th>\n",
       "      <th></th>\n",
       "      <th></th>\n",
       "    </tr>\n",
       "  </thead>\n",
       "  <tbody>\n",
       "    <tr>\n",
       "      <th>AT</th>\n",
       "      <td>Export</td>\n",
       "      <td>EU28</td>\n",
       "      <td>-0.086965</td>\n",
       "      <td>-0.076124</td>\n",
       "      <td>-0.064367</td>\n",
       "      <td>-0.075003</td>\n",
       "      <td>-0.070421</td>\n",
       "      <td>-0.063902</td>\n",
       "      <td>-0.067878</td>\n",
       "      <td>-0.052453</td>\n",
       "      <td>-0.055375</td>\n",
       "      <td>-0.079547</td>\n",
       "      <td>-0.054568</td>\n",
       "      <td>-0.030768</td>\n",
       "      <td>-0.031377</td>\n",
       "      <td>-0.049910</td>\n",
       "      <td>NaN</td>\n",
       "      <td>NaN</td>\n",
       "      <td>NaN</td>\n",
       "    </tr>\n",
       "    <tr>\n",
       "      <th>AT</th>\n",
       "      <td>Export</td>\n",
       "      <td>EXT_EU28</td>\n",
       "      <td>-0.212533</td>\n",
       "      <td>-0.204310</td>\n",
       "      <td>-0.223869</td>\n",
       "      <td>-0.216133</td>\n",
       "      <td>-0.209617</td>\n",
       "      <td>-0.206554</td>\n",
       "      <td>-0.193820</td>\n",
       "      <td>-0.185042</td>\n",
       "      <td>-0.178663</td>\n",
       "      <td>-0.176183</td>\n",
       "      <td>-0.170439</td>\n",
       "      <td>-0.179379</td>\n",
       "      <td>-0.206098</td>\n",
       "      <td>-0.220213</td>\n",
       "      <td>NaN</td>\n",
       "      <td>NaN</td>\n",
       "      <td>NaN</td>\n",
       "    </tr>\n",
       "    <tr>\n",
       "      <th>AT</th>\n",
       "      <td>Import</td>\n",
       "      <td>EU28</td>\n",
       "      <td>0.007817</td>\n",
       "      <td>0.025101</td>\n",
       "      <td>0.052658</td>\n",
       "      <td>0.057036</td>\n",
       "      <td>0.062110</td>\n",
       "      <td>0.041522</td>\n",
       "      <td>0.037609</td>\n",
       "      <td>0.028627</td>\n",
       "      <td>0.014970</td>\n",
       "      <td>0.007480</td>\n",
       "      <td>0.058364</td>\n",
       "      <td>0.093032</td>\n",
       "      <td>0.078646</td>\n",
       "      <td>0.029620</td>\n",
       "      <td>NaN</td>\n",
       "      <td>NaN</td>\n",
       "      <td>NaN</td>\n",
       "    </tr>\n",
       "    <tr>\n",
       "      <th>AT</th>\n",
       "      <td>Import</td>\n",
       "      <td>EXT_EU28</td>\n",
       "      <td>-0.324356</td>\n",
       "      <td>-0.332415</td>\n",
       "      <td>-0.325622</td>\n",
       "      <td>-0.338957</td>\n",
       "      <td>-0.343098</td>\n",
       "      <td>-0.356200</td>\n",
       "      <td>-0.345581</td>\n",
       "      <td>-0.377778</td>\n",
       "      <td>-0.377290</td>\n",
       "      <td>-0.383773</td>\n",
       "      <td>-0.371840</td>\n",
       "      <td>-0.385474</td>\n",
       "      <td>-0.365862</td>\n",
       "      <td>-0.359435</td>\n",
       "      <td>NaN</td>\n",
       "      <td>NaN</td>\n",
       "      <td>NaN</td>\n",
       "    </tr>\n",
       "    <tr>\n",
       "      <th>BE</th>\n",
       "      <td>Export</td>\n",
       "      <td>EU28</td>\n",
       "      <td>0.988470</td>\n",
       "      <td>1.020009</td>\n",
       "      <td>1.051596</td>\n",
       "      <td>1.015604</td>\n",
       "      <td>1.037844</td>\n",
       "      <td>1.044755</td>\n",
       "      <td>1.099431</td>\n",
       "      <td>1.077707</td>\n",
       "      <td>1.049481</td>\n",
       "      <td>1.052002</td>\n",
       "      <td>1.117633</td>\n",
       "      <td>1.082268</td>\n",
       "      <td>1.066784</td>\n",
       "      <td>1.074291</td>\n",
       "      <td>NaN</td>\n",
       "      <td>NaN</td>\n",
       "      <td>NaN</td>\n",
       "    </tr>\n",
       "  </tbody>\n",
       "</table>\n",
       "</div>"
      ],
      "text/plain": [
       "    trade_type   partner      2015      2014      2013      2012      2011  \\\n",
       "geo                                                                          \n",
       "AT      Export      EU28 -0.086965 -0.076124 -0.064367 -0.075003 -0.070421   \n",
       "AT      Export  EXT_EU28 -0.212533 -0.204310 -0.223869 -0.216133 -0.209617   \n",
       "AT      Import      EU28  0.007817  0.025101  0.052658  0.057036  0.062110   \n",
       "AT      Import  EXT_EU28 -0.324356 -0.332415 -0.325622 -0.338957 -0.343098   \n",
       "BE      Export      EU28  0.988470  1.020009  1.051596  1.015604  1.037844   \n",
       "\n",
       "         2010      2009      2008      2007      2006      2005      2004  \\\n",
       "geo                                                                         \n",
       "AT  -0.063902 -0.067878 -0.052453 -0.055375 -0.079547 -0.054568 -0.030768   \n",
       "AT  -0.206554 -0.193820 -0.185042 -0.178663 -0.176183 -0.170439 -0.179379   \n",
       "AT   0.041522  0.037609  0.028627  0.014970  0.007480  0.058364  0.093032   \n",
       "AT  -0.356200 -0.345581 -0.377778 -0.377290 -0.383773 -0.371840 -0.385474   \n",
       "BE   1.044755  1.099431  1.077707  1.049481  1.052002  1.117633  1.082268   \n",
       "\n",
       "         2003      2002  2001  2000  1999  \n",
       "geo                                        \n",
       "AT  -0.031377 -0.049910   NaN   NaN   NaN  \n",
       "AT  -0.206098 -0.220213   NaN   NaN   NaN  \n",
       "AT   0.078646  0.029620   NaN   NaN   NaN  \n",
       "AT  -0.365862 -0.359435   NaN   NaN   NaN  \n",
       "BE   1.066784  1.074291   NaN   NaN   NaN  "
      ]
     },
     "execution_count": 13,
     "metadata": {},
     "output_type": "execute_result"
    }
   ],
   "source": [
    "std_df.head()"
   ]
  },
  {
   "cell_type": "code",
   "execution_count": 14,
   "metadata": {
    "collapsed": true
   },
   "outputs": [],
   "source": [
    "yrs = [str(yr) for yr in range(2002, 2016)]"
   ]
  },
  {
   "cell_type": "code",
   "execution_count": 15,
   "metadata": {
    "collapsed": false
   },
   "outputs": [
    {
     "data": {
      "text/plain": [
       "['2002',\n",
       " '2003',\n",
       " '2004',\n",
       " '2005',\n",
       " '2006',\n",
       " '2007',\n",
       " '2008',\n",
       " '2009',\n",
       " '2010',\n",
       " '2011',\n",
       " '2012',\n",
       " '2013',\n",
       " '2014',\n",
       " '2015']"
      ]
     },
     "execution_count": 15,
     "metadata": {},
     "output_type": "execute_result"
    }
   ],
   "source": [
    "yrs"
   ]
  },
  {
   "cell_type": "code",
   "execution_count": 16,
   "metadata": {
    "collapsed": false
   },
   "outputs": [
    {
     "data": {
      "text/plain": [
       "<matplotlib.axes._subplots.AxesSubplot at 0x112c31990>"
      ]
     },
     "execution_count": 16,
     "metadata": {},
     "output_type": "execute_result"
    },
    {
     "data": {
      "image/png": "[encoded data removed]",
      "text/plain": [
       "<matplotlib.figure.Figure at 0x112b936d0>"
      ]
     },
     "metadata": {},
     "output_type": "display_data"
    }
   ],
   "source": [
    "df[(df['trade_type'] == 'Export') & \n",
    "   (df['partner'] == 'EXT_EU28')][yrs].T.plot(legend=False)"
   ]
  },
  {
   "cell_type": "code",
   "execution_count": 17,
   "metadata": {
    "collapsed": false
   },
   "outputs": [
    {
     "data": {
      "text/plain": [
       "<matplotlib.axes._subplots.AxesSubplot at 0x112c73a50>"
      ]
     },
     "execution_count": 17,
     "metadata": {},
     "output_type": "execute_result"
    },
    {
     "data": {
      "image/png": "[encoded data removed]",
      "text/plain": [
       "<matplotlib.figure.Figure at 0x112c23290>"
      ]
     },
     "metadata": {},
     "output_type": "display_data"
    }
   ],
   "source": [
    "df[(df['trade_type'] == 'Export') & \n",
    "   (df['partner'] == 'EXT_EU28')].loc[\n",
    "    ['DE', 'UK', 'FR', 'IT', 'NL', 'PL']][yrs].T.plot()"
   ]
  },
  {
   "cell_type": "code",
   "execution_count": 18,
   "metadata": {
    "collapsed": false
   },
   "outputs": [
    {
     "data": {
      "text/plain": [
       "<matplotlib.axes._subplots.AxesSubplot at 0x112c86e90>"
      ]
     },
     "execution_count": 18,
     "metadata": {},
     "output_type": "execute_result"
    },
    {
     "data": {
      "image/png": "[encoded data removed]",
      "text/plain": [
       "<matplotlib.figure.Figure at 0x112cc5c50>"
      ]
     },
     "metadata": {},
     "output_type": "display_data"
    }
   ],
   "source": [
    "std_df[(std_df['trade_type'] == 'Export') & \n",
    "   (std_df['partner'] == 'EXT_EU28')][yrs].T.plot(legend=False)"
   ]
  },
  {
   "cell_type": "code",
   "execution_count": 19,
   "metadata": {
    "collapsed": false
   },
   "outputs": [
    {
     "data": {
      "text/plain": [
       "<matplotlib.axes._subplots.AxesSubplot at 0x112c31a10>"
      ]
     },
     "execution_count": 19,
     "metadata": {},
     "output_type": "execute_result"
    },
    {
     "data": {
      "image/png": "[encoded data removed]",
      "text/plain": [
       "<matplotlib.figure.Figure at 0x112cc3cd0>"
      ]
     },
     "metadata": {},
     "output_type": "display_data"
    }
   ],
   "source": [
    "std_df[(std_df['trade_type'] == 'Export') & \n",
    "   (std_df['partner'] == 'EXT_EU28')].loc[\n",
    "    ['DE', 'UK', 'FR', 'IT', 'NL', 'PL']][yrs].T.plot()"
   ]
  },
  {
   "cell_type": "code",
   "execution_count": 20,
   "metadata": {
    "collapsed": true
   },
   "outputs": [],
   "source": [
    "normed_df = df.copy()"
   ]
  },
  {
   "cell_type": "code",
   "execution_count": 21,
   "metadata": {
    "collapsed": true
   },
   "outputs": [],
   "source": [
    "mins = df.groupby(['trade_type', 'partner']).transform(np.min)"
   ]
  },
  {
   "cell_type": "code",
   "execution_count": 22,
   "metadata": {
    "collapsed": true
   },
   "outputs": [],
   "source": [
    "maxs = df.groupby(['trade_type', 'partner']).transform(np.max)"
   ]
  },
  {
   "cell_type": "code",
   "execution_count": 23,
   "metadata": {
    "collapsed": false
   },
   "outputs": [
    {
     "name": "stdout",
     "output_type": "stream",
     "text": [
      "'trade_type'\n",
      "'partner'\n"
     ]
    }
   ],
   "source": [
    "for col in df.columns:\n",
    "    try:\n",
    "        normed_df[col] = (df[col] - mins[col]) / (maxs[col] - mins[col])\n",
    "    except Exception as e:\n",
    "        print(e)"
   ]
  },
  {
   "cell_type": "code",
   "execution_count": 24,
   "metadata": {
    "collapsed": false
   },
   "outputs": [
    {
     "data": {
      "text/plain": [
       "<matplotlib.axes._subplots.AxesSubplot at 0x112c237d0>"
      ]
     },
     "execution_count": 24,
     "metadata": {},
     "output_type": "execute_result"
    },
    {
     "data": {
      "image/png": "[encoded data removed]",
      "text/plain": [
       "<matplotlib.figure.Figure at 0x112e1f710>"
      ]
     },
     "metadata": {},
     "output_type": "display_data"
    }
   ],
   "source": [
    "normed_df[(normed_df['trade_type'] == 'Export') & \n",
    "   (normed_df['partner'] == 'EXT_EU28')][yrs].T.plot(legend=False)"
   ]
  },
  {
   "cell_type": "code",
   "execution_count": 25,
   "metadata": {
    "collapsed": false
   },
   "outputs": [
    {
     "data": {
      "text/plain": [
       "<matplotlib.axes._subplots.AxesSubplot at 0x112f13190>"
      ]
     },
     "execution_count": 25,
     "metadata": {},
     "output_type": "execute_result"
    },
    {
     "data": {
      "image/png": "[encoded data removed]",
      "text/plain": [
       "<matplotlib.figure.Figure at 0x112e4fb90>"
      ]
     },
     "metadata": {},
     "output_type": "display_data"
    }
   ],
   "source": [
    "normed_df[(normed_df['trade_type'] == 'Export') & \n",
    "   (normed_df['partner'] == 'EXT_EU28')].loc[\n",
    "    ['DE', 'UK', 'FR', 'IT', 'NL', 'PL']][yrs].T.plot()"
   ]
  },
  {
   "cell_type": "code",
   "execution_count": 26,
   "metadata": {
    "collapsed": false
   },
   "outputs": [
    {
     "data": {
      "text/plain": [
       "array([[<matplotlib.axes._subplots.AxesSubplot object at 0x113049690>]], dtype=object)"
      ]
     },
     "execution_count": 26,
     "metadata": {},
     "output_type": "execute_result"
    },
    {
     "data": {
      "image/png": "[encoded data removed]",
      "text/plain": [
       "<matplotlib.figure.Figure at 0x112e51bd0>"
      ]
     },
     "metadata": {},
     "output_type": "display_data"
    }
   ],
   "source": [
    "df.hist('2005')"
   ]
  },
  {
   "cell_type": "code",
   "execution_count": 27,
   "metadata": {
    "collapsed": false
   },
   "outputs": [
    {
     "data": {
      "text/plain": [
       "array([[<matplotlib.axes._subplots.AxesSubplot object at 0x113063550>]], dtype=object)"
      ]
     },
     "execution_count": 27,
     "metadata": {},
     "output_type": "execute_result"
    },
    {
     "data": {
      "image/png": "[encoded data removed]",
      "text/plain": [
       "<matplotlib.figure.Figure at 0x112e748d0>"
      ]
     },
     "metadata": {},
     "output_type": "display_data"
    }
   ],
   "source": [
    "std_df.hist('2005')"
   ]
  },
  {
   "cell_type": "code",
   "execution_count": 28,
   "metadata": {
    "collapsed": false
   },
   "outputs": [
    {
     "data": {
      "text/plain": [
       "array([[<matplotlib.axes._subplots.AxesSubplot object at 0x1131db910>]], dtype=object)"
      ]
     },
     "execution_count": 28,
     "metadata": {},
     "output_type": "execute_result"
    },
    {
     "data": {
      "image/png": "[encoded data removed]",
      "text/plain": [
       "<matplotlib.figure.Figure at 0x113115e10>"
      ]
     },
     "metadata": {},
     "output_type": "display_data"
    }
   ],
   "source": [
    "normed_df.hist('2005')"
   ]
  },
  {
   "cell_type": "code",
   "execution_count": null,
   "metadata": {
    "collapsed": true
   },
   "outputs": [],
   "source": []
  }
 ],
 "metadata": {
  "kernelspec": {
   "display_name": "Python 2",
   "language": "python",
   "name": "python2"
  },
  "language_info": {
   "codemirror_mode": {
    "name": "ipython",
    "version": 2
   },
   "file_extension": ".py",
   "mimetype": "text/x-python",
   "name": "python",
   "nbconvert_exporter": "python",
   "pygments_lexer": "ipython2",
   "version": "2.7.5"
  }
 },
 "nbformat": 4,
 "nbformat_minor": 0
}
