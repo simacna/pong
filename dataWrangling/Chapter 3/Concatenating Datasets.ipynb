{
 "cells": [
  {
   "cell_type": "code",
   "execution_count": 1,
   "metadata": {
    "collapsed": true
   },
   "outputs": [],
   "source": [
    "import pandas as pd"
   ]
  },
  {
   "cell_type": "code",
   "execution_count": 7,
   "metadata": {
    "collapsed": true
   },
   "outputs": [],
   "source": [
    "df = pd.DataFrame()"
   ]
  },
  {
   "cell_type": "code",
   "execution_count": 3,
   "metadata": {
    "collapsed": false
   },
   "outputs": [
    {
     "data": {
      "text/html": [
       "<div>\n",
       "<table border=\"1\" class=\"dataframe\">\n",
       "  <thead>\n",
       "    <tr style=\"text-align: right;\">\n",
       "      <th></th>\n",
       "    </tr>\n",
       "  </thead>\n",
       "  <tbody>\n",
       "  </tbody>\n",
       "</table>\n",
       "</div>"
      ],
      "text/plain": [
       "Empty DataFrame\n",
       "Columns: []\n",
       "Index: []"
      ]
     },
     "execution_count": 3,
     "metadata": {},
     "output_type": "execute_result"
    }
   ],
   "source": [
    "df"
   ]
  },
  {
   "cell_type": "code",
   "execution_count": 12,
   "metadata": {
    "collapsed": false
   },
   "outputs": [],
   "source": [
    "for chunk in pd.read_csv('data/ext_lt_invcur.tsv', sep='\\t', chunksize=100):\n",
    "    data_rows = [row for row in chunk.ix[:,0].str.split(',')]\n",
    "    data_cols = [col.split('\\\\')[0] for col in chunk.columns[0].split(',')]\n",
    "    clean_df = pd.DataFrame(data_rows, columns=data_cols)\n",
    "    new_df = pd.concat([clean_df, chunk.drop(chunk.columns[0], \n",
    "                                             axis=1)], axis=1)\n",
    "    df = pd.concat([df, new_df])"
   ]
  },
  {
   "cell_type": "code",
   "execution_count": 13,
   "metadata": {
    "collapsed": false
   },
   "outputs": [
    {
     "data": {
      "text/html": [
       "<div>\n",
       "<table border=\"1\" class=\"dataframe\">\n",
       "  <thead>\n",
       "    <tr style=\"text-align: right;\">\n",
       "      <th></th>\n",
       "      <th>partner</th>\n",
       "      <th>currency</th>\n",
       "      <th>stk_flow</th>\n",
       "      <th>sitc06</th>\n",
       "      <th>geo</th>\n",
       "      <th>2014</th>\n",
       "      <th>2012</th>\n",
       "      <th>2010</th>\n",
       "    </tr>\n",
       "  </thead>\n",
       "  <tbody>\n",
       "    <tr>\n",
       "      <th>0</th>\n",
       "      <td>EXT_EU</td>\n",
       "      <td>EUR</td>\n",
       "      <td>EXP</td>\n",
       "      <td>SITC0-4A</td>\n",
       "      <td>AT</td>\n",
       "      <td>61.9</td>\n",
       "      <td>65.6</td>\n",
       "      <td>67</td>\n",
       "    </tr>\n",
       "    <tr>\n",
       "      <th>1</th>\n",
       "      <td>EXT_EU</td>\n",
       "      <td>EUR</td>\n",
       "      <td>EXP</td>\n",
       "      <td>SITC0-4A</td>\n",
       "      <td>BE</td>\n",
       "      <td>53.8</td>\n",
       "      <td>85.8</td>\n",
       "      <td>92.4</td>\n",
       "    </tr>\n",
       "    <tr>\n",
       "      <th>2</th>\n",
       "      <td>EXT_EU</td>\n",
       "      <td>EUR</td>\n",
       "      <td>EXP</td>\n",
       "      <td>SITC0-4A</td>\n",
       "      <td>BG</td>\n",
       "      <td>57.0</td>\n",
       "      <td>46.2</td>\n",
       "      <td>54.1</td>\n",
       "    </tr>\n",
       "    <tr>\n",
       "      <th>3</th>\n",
       "      <td>EXT_EU</td>\n",
       "      <td>EUR</td>\n",
       "      <td>EXP</td>\n",
       "      <td>SITC0-4A</td>\n",
       "      <td>CY</td>\n",
       "      <td>79.1</td>\n",
       "      <td>60.7</td>\n",
       "      <td>61.4</td>\n",
       "    </tr>\n",
       "    <tr>\n",
       "      <th>4</th>\n",
       "      <td>EXT_EU</td>\n",
       "      <td>EUR</td>\n",
       "      <td>EXP</td>\n",
       "      <td>SITC0-4A</td>\n",
       "      <td>CZ</td>\n",
       "      <td>58.3</td>\n",
       "      <td>66.7</td>\n",
       "      <td>59.1</td>\n",
       "    </tr>\n",
       "  </tbody>\n",
       "</table>\n",
       "</div>"
      ],
      "text/plain": [
       "  partner currency stk_flow    sitc06 geo  2014   2012   2010 \n",
       "0  EXT_EU      EUR      EXP  SITC0-4A  AT   61.9  65.6     67 \n",
       "1  EXT_EU      EUR      EXP  SITC0-4A  BE   53.8  85.8   92.4 \n",
       "2  EXT_EU      EUR      EXP  SITC0-4A  BG   57.0  46.2   54.1 \n",
       "3  EXT_EU      EUR      EXP  SITC0-4A  CY   79.1  60.7   61.4 \n",
       "4  EXT_EU      EUR      EXP  SITC0-4A  CZ   58.3  66.7   59.1 "
      ]
     },
     "execution_count": 13,
     "metadata": {},
     "output_type": "execute_result"
    }
   ],
   "source": [
    "df.head()"
   ]
  },
  {
   "cell_type": "code",
   "execution_count": null,
   "metadata": {
    "collapsed": true
   },
   "outputs": [],
   "source": []
  }
 ],
 "metadata": {
  "kernelspec": {
   "display_name": "Python 2",
   "language": "python",
   "name": "python2"
  },
  "language_info": {
   "codemirror_mode": {
    "name": "ipython",
    "version": 2
   },
   "file_extension": ".py",
   "mimetype": "text/x-python",
   "name": "python",
   "nbconvert_exporter": "python",
   "pygments_lexer": "ipython2",
   "version": "2.7.5"
  }
 },
 "nbformat": 4,
 "nbformat_minor": 0
}
