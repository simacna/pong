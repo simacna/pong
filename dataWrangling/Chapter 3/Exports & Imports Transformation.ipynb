{
 "cells": [
  {
   "cell_type": "code",
   "execution_count": 1,
   "metadata": {
    "collapsed": true
   },
   "outputs": [],
   "source": [
    "import pandas as pd"
   ]
  },
  {
   "cell_type": "code",
   "execution_count": 2,
   "metadata": {
    "collapsed": false
   },
   "outputs": [],
   "source": [
    "df = pd.read_csv('data/ext_lt_intratrd.tsv', sep='\\t')"
   ]
  },
  {
   "cell_type": "code",
   "execution_count": 3,
   "metadata": {
    "collapsed": false
   },
   "outputs": [
    {
     "data": {
      "text/html": [
       "<div>\n",
       "<table border=\"1\" class=\"dataframe\">\n",
       "  <thead>\n",
       "    <tr style=\"text-align: right;\">\n",
       "      <th></th>\n",
       "      <th>indic_et,sitc06,partner,geo\\time</th>\n",
       "      <th>2015</th>\n",
       "      <th>2014</th>\n",
       "      <th>2013</th>\n",
       "      <th>2012</th>\n",
       "      <th>2011</th>\n",
       "      <th>2010</th>\n",
       "      <th>2009</th>\n",
       "      <th>2008</th>\n",
       "      <th>2007</th>\n",
       "      <th>2006</th>\n",
       "      <th>2005</th>\n",
       "      <th>2004</th>\n",
       "      <th>2003</th>\n",
       "      <th>2002</th>\n",
       "      <th>2001</th>\n",
       "      <th>2000</th>\n",
       "      <th>1999</th>\n",
       "    </tr>\n",
       "  </thead>\n",
       "  <tbody>\n",
       "    <tr>\n",
       "      <th>0</th>\n",
       "      <td>CONT_EXP_EU,SITC0_1,EU27,AT</td>\n",
       "      <td>2.4</td>\n",
       "      <td>2.5</td>\n",
       "      <td>2.4</td>\n",
       "      <td>2.5</td>\n",
       "      <td>2.5</td>\n",
       "      <td>2.5</td>\n",
       "      <td>2.6</td>\n",
       "      <td>2.6</td>\n",
       "      <td>2.6</td>\n",
       "      <td>2.6</td>\n",
       "      <td>2.5</td>\n",
       "      <td>2.4</td>\n",
       "      <td>2.4</td>\n",
       "      <td>2.1</td>\n",
       "      <td>2.1</td>\n",
       "      <td>2.0</td>\n",
       "      <td>1.9</td>\n",
       "    </tr>\n",
       "    <tr>\n",
       "      <th>1</th>\n",
       "      <td>CONT_EXP_EU,SITC0_1,EU27,BE</td>\n",
       "      <td>9.1</td>\n",
       "      <td>9.0</td>\n",
       "      <td>9.0</td>\n",
       "      <td>9.2</td>\n",
       "      <td>9.1</td>\n",
       "      <td>9.1</td>\n",
       "      <td>9.6</td>\n",
       "      <td>9.4</td>\n",
       "      <td>9.5</td>\n",
       "      <td>9.6</td>\n",
       "      <td>9.9</td>\n",
       "      <td>10.1</td>\n",
       "      <td>10.2</td>\n",
       "      <td>10.4</td>\n",
       "      <td>10.5</td>\n",
       "      <td>10.4</td>\n",
       "      <td>10.6</td>\n",
       "    </tr>\n",
       "    <tr>\n",
       "      <th>2</th>\n",
       "      <td>CONT_EXP_EU,SITC0_1,EU27,BG</td>\n",
       "      <td>0.6</td>\n",
       "      <td>0.6</td>\n",
       "      <td>0.6</td>\n",
       "      <td>0.6</td>\n",
       "      <td>0.6</td>\n",
       "      <td>0.6</td>\n",
       "      <td>0.5</td>\n",
       "      <td>0.4</td>\n",
       "      <td>0.3</td>\n",
       "      <td>0.2</td>\n",
       "      <td>0.2</td>\n",
       "      <td>0.2</td>\n",
       "      <td>0.2</td>\n",
       "      <td>0.2</td>\n",
       "      <td>0.2</td>\n",
       "      <td>0.1</td>\n",
       "      <td>0.2</td>\n",
       "    </tr>\n",
       "    <tr>\n",
       "      <th>3</th>\n",
       "      <td>CONT_EXP_EU,SITC0_1,EU27,CY</td>\n",
       "      <td>0.1</td>\n",
       "      <td>0.1</td>\n",
       "      <td>0.1</td>\n",
       "      <td>0.0</td>\n",
       "      <td>0.1</td>\n",
       "      <td>0.1</td>\n",
       "      <td>0.1</td>\n",
       "      <td>0.1</td>\n",
       "      <td>0.1</td>\n",
       "      <td>0.1</td>\n",
       "      <td>0.1</td>\n",
       "      <td>0.1</td>\n",
       "      <td>0.1</td>\n",
       "      <td>0.1</td>\n",
       "      <td>0.1</td>\n",
       "      <td>0.1</td>\n",
       "      <td>0.1</td>\n",
       "    </tr>\n",
       "    <tr>\n",
       "      <th>4</th>\n",
       "      <td>CONT_EXP_EU,SITC0_1,EU27,CZ</td>\n",
       "      <td>1.9</td>\n",
       "      <td>1.7</td>\n",
       "      <td>1.6</td>\n",
       "      <td>1.6</td>\n",
       "      <td>1.5</td>\n",
       "      <td>1.4</td>\n",
       "      <td>1.4</td>\n",
       "      <td>1.4</td>\n",
       "      <td>1.3</td>\n",
       "      <td>1.1</td>\n",
       "      <td>1.1</td>\n",
       "      <td>0.9</td>\n",
       "      <td>0.7</td>\n",
       "      <td>0.7</td>\n",
       "      <td>0.6</td>\n",
       "      <td>0.6</td>\n",
       "      <td>0.5</td>\n",
       "    </tr>\n",
       "  </tbody>\n",
       "</table>\n",
       "</div>"
      ],
      "text/plain": [
       "  indic_et,sitc06,partner,geo\\time 2015  2014  2013  2012  2011  2010  2009   \\\n",
       "0      CONT_EXP_EU,SITC0_1,EU27,AT  2.4   2.5   2.4   2.5   2.5   2.5   2.6    \n",
       "1      CONT_EXP_EU,SITC0_1,EU27,BE  9.1   9.0   9.0   9.2   9.1   9.1   9.6    \n",
       "2      CONT_EXP_EU,SITC0_1,EU27,BG  0.6   0.6   0.6   0.6   0.6   0.6   0.5    \n",
       "3      CONT_EXP_EU,SITC0_1,EU27,CY  0.1   0.1   0.1   0.0   0.1   0.1   0.1    \n",
       "4      CONT_EXP_EU,SITC0_1,EU27,CZ  1.9   1.7   1.6   1.6   1.5   1.4   1.4    \n",
       "\n",
       "  2008  2007  2006  2005   2004   2003   2002   2001   2000   1999   \n",
       "0  2.6   2.6   2.6   2.5    2.4    2.4    2.1    2.1    2.0    1.9   \n",
       "1  9.4   9.5   9.6   9.9   10.1   10.2   10.4   10.5   10.4   10.6   \n",
       "2  0.4   0.3   0.2   0.2    0.2    0.2    0.2    0.2    0.1    0.2   \n",
       "3  0.1   0.1   0.1   0.1    0.1    0.1    0.1    0.1    0.1    0.1   \n",
       "4  1.4   1.3   1.1   1.1    0.9    0.7    0.7    0.6    0.6    0.5   "
      ]
     },
     "execution_count": 3,
     "metadata": {},
     "output_type": "execute_result"
    }
   ],
   "source": [
    "df.head()"
   ]
  },
  {
   "cell_type": "code",
   "execution_count": 4,
   "metadata": {
    "collapsed": true
   },
   "outputs": [],
   "source": [
    "data_rows = [row for row in df.ix[:,0].str.split(',')]"
   ]
  },
  {
   "cell_type": "code",
   "execution_count": 5,
   "metadata": {
    "collapsed": false
   },
   "outputs": [],
   "source": [
    "data_cols = [col.split('\\\\')[0] for col in df.columns[0].split(',')]"
   ]
  },
  {
   "cell_type": "code",
   "execution_count": 6,
   "metadata": {
    "collapsed": true
   },
   "outputs": [],
   "source": [
    "new_df = pd.DataFrame(data_rows, columns=data_cols)"
   ]
  },
  {
   "cell_type": "code",
   "execution_count": 7,
   "metadata": {
    "collapsed": false
   },
   "outputs": [],
   "source": [
    "df = new_df.join(df.drop(df.columns[0], axis=1))"
   ]
  },
  {
   "cell_type": "code",
   "execution_count": 8,
   "metadata": {
    "collapsed": false
   },
   "outputs": [
    {
     "data": {
      "text/html": [
       "<div>\n",
       "<table border=\"1\" class=\"dataframe\">\n",
       "  <thead>\n",
       "    <tr style=\"text-align: right;\">\n",
       "      <th></th>\n",
       "      <th>indic_et</th>\n",
       "      <th>sitc06</th>\n",
       "      <th>partner</th>\n",
       "      <th>geo</th>\n",
       "      <th>2015</th>\n",
       "      <th>2014</th>\n",
       "      <th>2013</th>\n",
       "      <th>2012</th>\n",
       "      <th>2011</th>\n",
       "      <th>2010</th>\n",
       "      <th>...</th>\n",
       "      <th>2008</th>\n",
       "      <th>2007</th>\n",
       "      <th>2006</th>\n",
       "      <th>2005</th>\n",
       "      <th>2004</th>\n",
       "      <th>2003</th>\n",
       "      <th>2002</th>\n",
       "      <th>2001</th>\n",
       "      <th>2000</th>\n",
       "      <th>1999</th>\n",
       "    </tr>\n",
       "  </thead>\n",
       "  <tbody>\n",
       "    <tr>\n",
       "      <th>0</th>\n",
       "      <td>CONT_EXP_EU</td>\n",
       "      <td>SITC0_1</td>\n",
       "      <td>EU27</td>\n",
       "      <td>AT</td>\n",
       "      <td>2.4</td>\n",
       "      <td>2.5</td>\n",
       "      <td>2.4</td>\n",
       "      <td>2.5</td>\n",
       "      <td>2.5</td>\n",
       "      <td>2.5</td>\n",
       "      <td>...</td>\n",
       "      <td>2.6</td>\n",
       "      <td>2.6</td>\n",
       "      <td>2.6</td>\n",
       "      <td>2.5</td>\n",
       "      <td>2.4</td>\n",
       "      <td>2.4</td>\n",
       "      <td>2.1</td>\n",
       "      <td>2.1</td>\n",
       "      <td>2.0</td>\n",
       "      <td>1.9</td>\n",
       "    </tr>\n",
       "    <tr>\n",
       "      <th>1</th>\n",
       "      <td>CONT_EXP_EU</td>\n",
       "      <td>SITC0_1</td>\n",
       "      <td>EU27</td>\n",
       "      <td>BE</td>\n",
       "      <td>9.1</td>\n",
       "      <td>9.0</td>\n",
       "      <td>9.0</td>\n",
       "      <td>9.2</td>\n",
       "      <td>9.1</td>\n",
       "      <td>9.1</td>\n",
       "      <td>...</td>\n",
       "      <td>9.4</td>\n",
       "      <td>9.5</td>\n",
       "      <td>9.6</td>\n",
       "      <td>9.9</td>\n",
       "      <td>10.1</td>\n",
       "      <td>10.2</td>\n",
       "      <td>10.4</td>\n",
       "      <td>10.5</td>\n",
       "      <td>10.4</td>\n",
       "      <td>10.6</td>\n",
       "    </tr>\n",
       "    <tr>\n",
       "      <th>2</th>\n",
       "      <td>CONT_EXP_EU</td>\n",
       "      <td>SITC0_1</td>\n",
       "      <td>EU27</td>\n",
       "      <td>BG</td>\n",
       "      <td>0.6</td>\n",
       "      <td>0.6</td>\n",
       "      <td>0.6</td>\n",
       "      <td>0.6</td>\n",
       "      <td>0.6</td>\n",
       "      <td>0.6</td>\n",
       "      <td>...</td>\n",
       "      <td>0.4</td>\n",
       "      <td>0.3</td>\n",
       "      <td>0.2</td>\n",
       "      <td>0.2</td>\n",
       "      <td>0.2</td>\n",
       "      <td>0.2</td>\n",
       "      <td>0.2</td>\n",
       "      <td>0.2</td>\n",
       "      <td>0.1</td>\n",
       "      <td>0.2</td>\n",
       "    </tr>\n",
       "    <tr>\n",
       "      <th>3</th>\n",
       "      <td>CONT_EXP_EU</td>\n",
       "      <td>SITC0_1</td>\n",
       "      <td>EU27</td>\n",
       "      <td>CY</td>\n",
       "      <td>0.1</td>\n",
       "      <td>0.1</td>\n",
       "      <td>0.1</td>\n",
       "      <td>0.0</td>\n",
       "      <td>0.1</td>\n",
       "      <td>0.1</td>\n",
       "      <td>...</td>\n",
       "      <td>0.1</td>\n",
       "      <td>0.1</td>\n",
       "      <td>0.1</td>\n",
       "      <td>0.1</td>\n",
       "      <td>0.1</td>\n",
       "      <td>0.1</td>\n",
       "      <td>0.1</td>\n",
       "      <td>0.1</td>\n",
       "      <td>0.1</td>\n",
       "      <td>0.1</td>\n",
       "    </tr>\n",
       "    <tr>\n",
       "      <th>4</th>\n",
       "      <td>CONT_EXP_EU</td>\n",
       "      <td>SITC0_1</td>\n",
       "      <td>EU27</td>\n",
       "      <td>CZ</td>\n",
       "      <td>1.9</td>\n",
       "      <td>1.7</td>\n",
       "      <td>1.6</td>\n",
       "      <td>1.6</td>\n",
       "      <td>1.5</td>\n",
       "      <td>1.4</td>\n",
       "      <td>...</td>\n",
       "      <td>1.4</td>\n",
       "      <td>1.3</td>\n",
       "      <td>1.1</td>\n",
       "      <td>1.1</td>\n",
       "      <td>0.9</td>\n",
       "      <td>0.7</td>\n",
       "      <td>0.7</td>\n",
       "      <td>0.6</td>\n",
       "      <td>0.6</td>\n",
       "      <td>0.5</td>\n",
       "    </tr>\n",
       "  </tbody>\n",
       "</table>\n",
       "<p>5 rows × 21 columns</p>\n",
       "</div>"
      ],
      "text/plain": [
       "      indic_et   sitc06 partner geo 2015  2014  2013  2012  2011  2010   \\\n",
       "0  CONT_EXP_EU  SITC0_1    EU27  AT  2.4   2.5   2.4   2.5   2.5   2.5    \n",
       "1  CONT_EXP_EU  SITC0_1    EU27  BE  9.1   9.0   9.0   9.2   9.1   9.1    \n",
       "2  CONT_EXP_EU  SITC0_1    EU27  BG  0.6   0.6   0.6   0.6   0.6   0.6    \n",
       "3  CONT_EXP_EU  SITC0_1    EU27  CY  0.1   0.1   0.1   0.0   0.1   0.1    \n",
       "4  CONT_EXP_EU  SITC0_1    EU27  CZ  1.9   1.7   1.6   1.6   1.5   1.4    \n",
       "\n",
       "   ...   2008  2007  2006  2005   2004   2003   2002   2001   2000   1999   \n",
       "0  ...    2.6   2.6   2.6   2.5    2.4    2.4    2.1    2.1    2.0    1.9   \n",
       "1  ...    9.4   9.5   9.6   9.9   10.1   10.2   10.4   10.5   10.4   10.6   \n",
       "2  ...    0.4   0.3   0.2   0.2    0.2    0.2    0.2    0.2    0.1    0.2   \n",
       "3  ...    0.1   0.1   0.1   0.1    0.1    0.1    0.1    0.1    0.1    0.1   \n",
       "4  ...    1.4   1.3   1.1   1.1    0.9    0.7    0.7    0.6    0.6    0.5   \n",
       "\n",
       "[5 rows x 21 columns]"
      ]
     },
     "execution_count": 8,
     "metadata": {},
     "output_type": "execute_result"
    }
   ],
   "source": [
    "df.head()"
   ]
  },
  {
   "cell_type": "code",
   "execution_count": 9,
   "metadata": {
    "collapsed": false
   },
   "outputs": [
    {
     "data": {
      "text/plain": [
       "indic_et    object\n",
       "sitc06      object\n",
       "partner     object\n",
       "geo         object\n",
       "2015        object\n",
       "2014        object\n",
       "2013        object\n",
       "2012        object\n",
       "2011        object\n",
       "2010        object\n",
       "2009        object\n",
       "2008        object\n",
       "2007        object\n",
       "2006        object\n",
       "2005        object\n",
       "2004        object\n",
       "2003        object\n",
       "2002        object\n",
       "2001        object\n",
       "2000        object\n",
       "1999        object\n",
       "dtype: object"
      ]
     },
     "execution_count": 9,
     "metadata": {},
     "output_type": "execute_result"
    }
   ],
   "source": [
    "df.dtypes"
   ]
  },
  {
   "cell_type": "code",
   "execution_count": 10,
   "metadata": {
    "collapsed": false
   },
   "outputs": [],
   "source": [
    "df = df.applymap(lambda cell: cell.replace('n', '').replace(':',''))"
   ]
  },
  {
   "cell_type": "code",
   "execution_count": 11,
   "metadata": {
    "collapsed": true
   },
   "outputs": [],
   "source": [
    "import numpy as np"
   ]
  },
  {
   "cell_type": "code",
   "execution_count": 12,
   "metadata": {
    "collapsed": false
   },
   "outputs": [
    {
     "name": "stdout",
     "output_type": "stream",
     "text": [
      "(ValueError('could not convert string to float: ',), '2001 ')\n",
      "(ValueError('could not convert string to float: ',), '2000 ')\n",
      "(ValueError('could not convert string to float: ',), '1999 ')\n"
     ]
    }
   ],
   "source": [
    "for column in df.columns[4:]:\n",
    "    try:\n",
    "        df[column] = df[column].astype(float)\n",
    "    except Exception as e:\n",
    "        print(e, column)\n",
    "        df[column] = df[column].map(lambda x: float(x) if x.isdigit() else np.nan)\n",
    "        df[column] = df[column].astype(float)"
   ]
  },
  {
   "cell_type": "code",
   "execution_count": 13,
   "metadata": {
    "collapsed": false
   },
   "outputs": [
    {
     "data": {
      "text/plain": [
       "indic_et     object\n",
       "sitc06       object\n",
       "partner      object\n",
       "geo          object\n",
       "2015        float64\n",
       "2014        float64\n",
       "2013        float64\n",
       "2012        float64\n",
       "2011        float64\n",
       "2010        float64\n",
       "2009        float64\n",
       "2008        float64\n",
       "2007        float64\n",
       "2006        float64\n",
       "2005        float64\n",
       "2004        float64\n",
       "2003        float64\n",
       "2002        float64\n",
       "2001        float64\n",
       "2000        float64\n",
       "1999        float64\n",
       "dtype: object"
      ]
     },
     "execution_count": 13,
     "metadata": {},
     "output_type": "execute_result"
    }
   ],
   "source": [
    "df.dtypes"
   ]
  },
  {
   "cell_type": "code",
   "execution_count": 14,
   "metadata": {
    "collapsed": false
   },
   "outputs": [],
   "source": [
    "new_columns = dict([(col, col.strip()) for col in df.columns])"
   ]
  },
  {
   "cell_type": "code",
   "execution_count": 15,
   "metadata": {
    "collapsed": false
   },
   "outputs": [],
   "source": [
    "df = df.rename(columns=new_columns)"
   ]
  },
  {
   "cell_type": "code",
   "execution_count": 16,
   "metadata": {
    "collapsed": false
   },
   "outputs": [
    {
     "data": {
      "text/plain": [
       "EXT_EU28    2088\n",
       "EU28        2088\n",
       "EXT_EU27    2016\n",
       "EU27        2016\n",
       "WORLD       1120\n",
       "Name: partner, dtype: int64"
      ]
     },
     "execution_count": 16,
     "metadata": {},
     "output_type": "execute_result"
    }
   ],
   "source": [
    "df['partner'].value_counts()"
   ]
  },
  {
   "cell_type": "code",
   "execution_count": 17,
   "metadata": {
    "collapsed": false
   },
   "outputs": [
    {
     "data": {
      "text/plain": [
       "PC_IMP_PROD    1136\n",
       "MIO_IMP_VAL    1136\n",
       "MIO_BAL_VAL    1136\n",
       "MIO_EXP_VAL    1136\n",
       "PC_EXP_PROD    1136\n",
       "PC_TOT_EXP      912\n",
       "CONT_IMP_EU     912\n",
       "CONT_EXP_EU     912\n",
       "PC_TOT_IMP      912\n",
       "Name: indic_et, dtype: int64"
      ]
     },
     "execution_count": 17,
     "metadata": {},
     "output_type": "execute_result"
    }
   ],
   "source": [
    "df['indic_et'].value_counts()"
   ]
  },
  {
   "cell_type": "code",
   "execution_count": 18,
   "metadata": {
    "collapsed": true
   },
   "outputs": [],
   "source": [
    "latest_eu = df[df['partner'].isin(['EXT_EU28', 'EU28'])]"
   ]
  },
  {
   "cell_type": "code",
   "execution_count": 19,
   "metadata": {
    "collapsed": false
   },
   "outputs": [],
   "source": [
    "latest_eu = latest_eu[latest_eu['indic_et'].isin(['MIO_IMP_VAL', 'MIO_EXP_VAL'])]"
   ]
  },
  {
   "cell_type": "code",
   "execution_count": 20,
   "metadata": {
    "collapsed": false
   },
   "outputs": [
    {
     "data": {
      "text/html": [
       "<div>\n",
       "<table border=\"1\" class=\"dataframe\">\n",
       "  <thead>\n",
       "    <tr style=\"text-align: right;\">\n",
       "      <th></th>\n",
       "      <th>indic_et</th>\n",
       "      <th>sitc06</th>\n",
       "      <th>partner</th>\n",
       "      <th>geo</th>\n",
       "      <th>2015</th>\n",
       "      <th>2014</th>\n",
       "      <th>2013</th>\n",
       "      <th>2012</th>\n",
       "      <th>2011</th>\n",
       "      <th>2010</th>\n",
       "      <th>...</th>\n",
       "      <th>2008</th>\n",
       "      <th>2007</th>\n",
       "      <th>2006</th>\n",
       "      <th>2005</th>\n",
       "      <th>2004</th>\n",
       "      <th>2003</th>\n",
       "      <th>2002</th>\n",
       "      <th>2001</th>\n",
       "      <th>2000</th>\n",
       "      <th>1999</th>\n",
       "    </tr>\n",
       "  </thead>\n",
       "  <tbody>\n",
       "    <tr>\n",
       "      <th>2988</th>\n",
       "      <td>MIO_EXP_VAL</td>\n",
       "      <td>SITC0_1</td>\n",
       "      <td>EU28</td>\n",
       "      <td>AT</td>\n",
       "      <td>7713.0</td>\n",
       "      <td>7507.0</td>\n",
       "      <td>7307.0</td>\n",
       "      <td>7082.0</td>\n",
       "      <td>6822.0</td>\n",
       "      <td>6348.0</td>\n",
       "      <td>...</td>\n",
       "      <td>6488.0</td>\n",
       "      <td>5862.0</td>\n",
       "      <td>5246.0</td>\n",
       "      <td>4774.0</td>\n",
       "      <td>4410.0</td>\n",
       "      <td>4120.0</td>\n",
       "      <td>3583.0</td>\n",
       "      <td>NaN</td>\n",
       "      <td>NaN</td>\n",
       "      <td>NaN</td>\n",
       "    </tr>\n",
       "    <tr>\n",
       "      <th>2989</th>\n",
       "      <td>MIO_EXP_VAL</td>\n",
       "      <td>SITC0_1</td>\n",
       "      <td>EU28</td>\n",
       "      <td>BE</td>\n",
       "      <td>28471.0</td>\n",
       "      <td>26998.0</td>\n",
       "      <td>26504.0</td>\n",
       "      <td>25933.0</td>\n",
       "      <td>24522.0</td>\n",
       "      <td>22467.0</td>\n",
       "      <td>...</td>\n",
       "      <td>22789.0</td>\n",
       "      <td>21181.0</td>\n",
       "      <td>19413.0</td>\n",
       "      <td>18714.0</td>\n",
       "      <td>17873.0</td>\n",
       "      <td>17217.0</td>\n",
       "      <td>16963.0</td>\n",
       "      <td>NaN</td>\n",
       "      <td>NaN</td>\n",
       "      <td>NaN</td>\n",
       "    </tr>\n",
       "    <tr>\n",
       "      <th>2990</th>\n",
       "      <td>MIO_EXP_VAL</td>\n",
       "      <td>SITC0_1</td>\n",
       "      <td>EU28</td>\n",
       "      <td>BG</td>\n",
       "      <td>1808.0</td>\n",
       "      <td>1764.0</td>\n",
       "      <td>1911.0</td>\n",
       "      <td>1795.0</td>\n",
       "      <td>1665.0</td>\n",
       "      <td>1415.0</td>\n",
       "      <td>...</td>\n",
       "      <td>924.0</td>\n",
       "      <td>645.0</td>\n",
       "      <td>514.0</td>\n",
       "      <td>462.0</td>\n",
       "      <td>396.0</td>\n",
       "      <td>340.0</td>\n",
       "      <td>353.0</td>\n",
       "      <td>NaN</td>\n",
       "      <td>NaN</td>\n",
       "      <td>NaN</td>\n",
       "    </tr>\n",
       "    <tr>\n",
       "      <th>2991</th>\n",
       "      <td>MIO_EXP_VAL</td>\n",
       "      <td>SITC0_1</td>\n",
       "      <td>EU28</td>\n",
       "      <td>CY</td>\n",
       "      <td>162.0</td>\n",
       "      <td>156.0</td>\n",
       "      <td>161.0</td>\n",
       "      <td>132.0</td>\n",
       "      <td>149.0</td>\n",
       "      <td>130.0</td>\n",
       "      <td>...</td>\n",
       "      <td>134.0</td>\n",
       "      <td>138.0</td>\n",
       "      <td>122.0</td>\n",
       "      <td>118.0</td>\n",
       "      <td>123.0</td>\n",
       "      <td>102.0</td>\n",
       "      <td>89.0</td>\n",
       "      <td>NaN</td>\n",
       "      <td>NaN</td>\n",
       "      <td>NaN</td>\n",
       "    </tr>\n",
       "    <tr>\n",
       "      <th>2992</th>\n",
       "      <td>MIO_EXP_VAL</td>\n",
       "      <td>SITC0_1</td>\n",
       "      <td>EU28</td>\n",
       "      <td>CZ</td>\n",
       "      <td>5900.0</td>\n",
       "      <td>5229.0</td>\n",
       "      <td>4862.0</td>\n",
       "      <td>4653.0</td>\n",
       "      <td>4077.0</td>\n",
       "      <td>3396.0</td>\n",
       "      <td>...</td>\n",
       "      <td>3518.0</td>\n",
       "      <td>2861.0</td>\n",
       "      <td>2338.0</td>\n",
       "      <td>2111.0</td>\n",
       "      <td>1564.0</td>\n",
       "      <td>1182.0</td>\n",
       "      <td>1089.0</td>\n",
       "      <td>NaN</td>\n",
       "      <td>NaN</td>\n",
       "      <td>NaN</td>\n",
       "    </tr>\n",
       "  </tbody>\n",
       "</table>\n",
       "<p>5 rows × 21 columns</p>\n",
       "</div>"
      ],
      "text/plain": [
       "         indic_et   sitc06 partner geo     2015     2014     2013     2012  \\\n",
       "2988  MIO_EXP_VAL  SITC0_1    EU28  AT   7713.0   7507.0   7307.0   7082.0   \n",
       "2989  MIO_EXP_VAL  SITC0_1    EU28  BE  28471.0  26998.0  26504.0  25933.0   \n",
       "2990  MIO_EXP_VAL  SITC0_1    EU28  BG   1808.0   1764.0   1911.0   1795.0   \n",
       "2991  MIO_EXP_VAL  SITC0_1    EU28  CY    162.0    156.0    161.0    132.0   \n",
       "2992  MIO_EXP_VAL  SITC0_1    EU28  CZ   5900.0   5229.0   4862.0   4653.0   \n",
       "\n",
       "         2011     2010  ...      2008     2007     2006     2005     2004  \\\n",
       "2988   6822.0   6348.0  ...    6488.0   5862.0   5246.0   4774.0   4410.0   \n",
       "2989  24522.0  22467.0  ...   22789.0  21181.0  19413.0  18714.0  17873.0   \n",
       "2990   1665.0   1415.0  ...     924.0    645.0    514.0    462.0    396.0   \n",
       "2991    149.0    130.0  ...     134.0    138.0    122.0    118.0    123.0   \n",
       "2992   4077.0   3396.0  ...    3518.0   2861.0   2338.0   2111.0   1564.0   \n",
       "\n",
       "         2003     2002  2001  2000  1999  \n",
       "2988   4120.0   3583.0   NaN   NaN   NaN  \n",
       "2989  17217.0  16963.0   NaN   NaN   NaN  \n",
       "2990    340.0    353.0   NaN   NaN   NaN  \n",
       "2991    102.0     89.0   NaN   NaN   NaN  \n",
       "2992   1182.0   1089.0   NaN   NaN   NaN  \n",
       "\n",
       "[5 rows x 21 columns]"
      ]
     },
     "execution_count": 20,
     "metadata": {},
     "output_type": "execute_result"
    }
   ],
   "source": [
    "latest_eu.head()"
   ]
  },
  {
   "cell_type": "code",
   "execution_count": 21,
   "metadata": {
    "collapsed": true
   },
   "outputs": [],
   "source": [
    "latest_eu['trade_type'] = latest_eu['indic_et'].map(lambda x: 'Export' if x == 'MIO_EXP_VAL' else 'Import')"
   ]
  },
  {
   "cell_type": "code",
   "execution_count": 22,
   "metadata": {
    "collapsed": false
   },
   "outputs": [],
   "source": [
    "eu_trade = latest_eu.groupby(['geo', 'trade_type', 'partner']).sum()"
   ]
  },
  {
   "cell_type": "code",
   "execution_count": 23,
   "metadata": {
    "collapsed": true
   },
   "outputs": [],
   "source": [
    "eu_trade.to_csv('data/eu_trade_sums.csv')"
   ]
  },
  {
   "cell_type": "code",
   "execution_count": 24,
   "metadata": {
    "collapsed": true
   },
   "outputs": [],
   "source": [
    "imported = pd.read_csv('data/eu_trade_sums.csv')"
   ]
  },
  {
   "cell_type": "code",
   "execution_count": 25,
   "metadata": {
    "collapsed": false
   },
   "outputs": [
    {
     "data": {
      "text/plain": [
       "Index([u'geo', u'trade_type', u'partner', u'2015', u'2014', u'2013', u'2012',\n",
       "       u'2011', u'2010', u'2009', u'2008', u'2007', u'2006', u'2005', u'2004',\n",
       "       u'2003', u'2002', u'2001', u'2000', u'1999'],\n",
       "      dtype='object')"
      ]
     },
     "execution_count": 25,
     "metadata": {},
     "output_type": "execute_result"
    }
   ],
   "source": [
    "imported.columns"
   ]
  },
  {
   "cell_type": "code",
   "execution_count": null,
   "metadata": {
    "collapsed": true
   },
   "outputs": [],
   "source": []
  }
 ],
 "metadata": {
  "kernelspec": {
   "display_name": "Python 2",
   "language": "python",
   "name": "python2"
  },
  "language_info": {
   "codemirror_mode": {
    "name": "ipython",
    "version": 2
   },
   "file_extension": ".py",
   "mimetype": "text/x-python",
   "name": "python",
   "nbconvert_exporter": "python",
   "pygments_lexer": "ipython2",
   "version": "2.7.6"
  }
 },
 "nbformat": 4,
 "nbformat_minor": 0
}
