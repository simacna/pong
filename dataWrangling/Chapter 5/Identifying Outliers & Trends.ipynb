{
 "cells": [
  {
   "cell_type": "code",
   "execution_count": 1,
   "metadata": {
    "collapsed": true
   },
   "outputs": [],
   "source": [
    "import pandas as pd"
   ]
  },
  {
   "cell_type": "code",
   "execution_count": 2,
   "metadata": {
    "collapsed": false
   },
   "outputs": [
    {
     "name": "stdout",
     "output_type": "stream",
     "text": [
      "Populating the interactive namespace from numpy and matplotlib\n"
     ]
    }
   ],
   "source": [
    "%pylab inline"
   ]
  },
  {
   "cell_type": "code",
   "execution_count": 3,
   "metadata": {
    "collapsed": true
   },
   "outputs": [],
   "source": [
    "df = pd.read_csv('data/eu_trade_sums.csv')"
   ]
  },
  {
   "cell_type": "code",
   "execution_count": 4,
   "metadata": {
    "collapsed": false
   },
   "outputs": [
    {
     "data": {
      "text/html": [
       "<div>\n",
       "<table border=\"1\" class=\"dataframe\">\n",
       "  <thead>\n",
       "    <tr style=\"text-align: right;\">\n",
       "      <th></th>\n",
       "      <th>geo</th>\n",
       "      <th>trade_type</th>\n",
       "      <th>partner</th>\n",
       "      <th>2015</th>\n",
       "      <th>2014</th>\n",
       "      <th>2013</th>\n",
       "      <th>2012</th>\n",
       "      <th>2011</th>\n",
       "      <th>2010</th>\n",
       "      <th>2009</th>\n",
       "      <th>2008</th>\n",
       "      <th>2007</th>\n",
       "      <th>2006</th>\n",
       "      <th>2005</th>\n",
       "      <th>2004</th>\n",
       "      <th>2003</th>\n",
       "      <th>2002</th>\n",
       "      <th>2001</th>\n",
       "      <th>2000</th>\n",
       "      <th>1999</th>\n",
       "    </tr>\n",
       "  </thead>\n",
       "  <tbody>\n",
       "    <tr>\n",
       "      <th>0</th>\n",
       "      <td>AT</td>\n",
       "      <td>Export</td>\n",
       "      <td>EU28</td>\n",
       "      <td>193043.0</td>\n",
       "      <td>187548.0</td>\n",
       "      <td>184865.0</td>\n",
       "      <td>181689.0</td>\n",
       "      <td>181889.0</td>\n",
       "      <td>166299.0</td>\n",
       "      <td>143052.0</td>\n",
       "      <td>181180.0</td>\n",
       "      <td>176327.0</td>\n",
       "      <td>159517.0</td>\n",
       "      <td>147064.0</td>\n",
       "      <td>142481.0</td>\n",
       "      <td>131439.0</td>\n",
       "      <td>126666.0</td>\n",
       "      <td>NaN</td>\n",
       "      <td>NaN</td>\n",
       "      <td>NaN</td>\n",
       "    </tr>\n",
       "    <tr>\n",
       "      <th>1</th>\n",
       "      <td>AT</td>\n",
       "      <td>Export</td>\n",
       "      <td>EXT_EU28</td>\n",
       "      <td>82468.0</td>\n",
       "      <td>80797.0</td>\n",
       "      <td>78903.0</td>\n",
       "      <td>77668.0</td>\n",
       "      <td>73038.0</td>\n",
       "      <td>63858.0</td>\n",
       "      <td>53376.0</td>\n",
       "      <td>65339.0</td>\n",
       "      <td>62447.0</td>\n",
       "      <td>58309.0</td>\n",
       "      <td>53871.0</td>\n",
       "      <td>46923.0</td>\n",
       "      <td>40317.0</td>\n",
       "      <td>39731.0</td>\n",
       "      <td>NaN</td>\n",
       "      <td>NaN</td>\n",
       "      <td>NaN</td>\n",
       "    </tr>\n",
       "    <tr>\n",
       "      <th>2</th>\n",
       "      <td>AT</td>\n",
       "      <td>Import</td>\n",
       "      <td>EU28</td>\n",
       "      <td>215023.0</td>\n",
       "      <td>210492.0</td>\n",
       "      <td>211444.0</td>\n",
       "      <td>212546.0</td>\n",
       "      <td>212734.0</td>\n",
       "      <td>187011.0</td>\n",
       "      <td>160875.0</td>\n",
       "      <td>197137.0</td>\n",
       "      <td>190105.0</td>\n",
       "      <td>175463.0</td>\n",
       "      <td>165908.0</td>\n",
       "      <td>160883.0</td>\n",
       "      <td>144982.0</td>\n",
       "      <td>134624.0</td>\n",
       "      <td>NaN</td>\n",
       "      <td>NaN</td>\n",
       "      <td>NaN</td>\n",
       "    </tr>\n",
       "    <tr>\n",
       "      <th>3</th>\n",
       "      <td>AT</td>\n",
       "      <td>Import</td>\n",
       "      <td>EXT_EU28</td>\n",
       "      <td>65242.0</td>\n",
       "      <td>63511.0</td>\n",
       "      <td>64554.0</td>\n",
       "      <td>65337.0</td>\n",
       "      <td>62293.0</td>\n",
       "      <td>52877.0</td>\n",
       "      <td>44262.0</td>\n",
       "      <td>53467.0</td>\n",
       "      <td>47817.0</td>\n",
       "      <td>43097.0</td>\n",
       "      <td>38657.0</td>\n",
       "      <td>31628.0</td>\n",
       "      <td>30994.0</td>\n",
       "      <td>30983.0</td>\n",
       "      <td>NaN</td>\n",
       "      <td>NaN</td>\n",
       "      <td>NaN</td>\n",
       "    </tr>\n",
       "    <tr>\n",
       "      <th>4</th>\n",
       "      <td>BE</td>\n",
       "      <td>Export</td>\n",
       "      <td>EU28</td>\n",
       "      <td>517836.0</td>\n",
       "      <td>502888.0</td>\n",
       "      <td>495145.0</td>\n",
       "      <td>486102.0</td>\n",
       "      <td>492083.0</td>\n",
       "      <td>449191.0</td>\n",
       "      <td>402557.0</td>\n",
       "      <td>493688.0</td>\n",
       "      <td>478972.0</td>\n",
       "      <td>446775.0</td>\n",
       "      <td>412912.0</td>\n",
       "      <td>380546.0</td>\n",
       "      <td>349210.0</td>\n",
       "      <td>345248.0</td>\n",
       "      <td>NaN</td>\n",
       "      <td>NaN</td>\n",
       "      <td>NaN</td>\n",
       "    </tr>\n",
       "  </tbody>\n",
       "</table>\n",
       "</div>"
      ],
      "text/plain": [
       "  geo trade_type   partner      2015      2014      2013      2012      2011  \\\n",
       "0  AT     Export      EU28  193043.0  187548.0  184865.0  181689.0  181889.0   \n",
       "1  AT     Export  EXT_EU28   82468.0   80797.0   78903.0   77668.0   73038.0   \n",
       "2  AT     Import      EU28  215023.0  210492.0  211444.0  212546.0  212734.0   \n",
       "3  AT     Import  EXT_EU28   65242.0   63511.0   64554.0   65337.0   62293.0   \n",
       "4  BE     Export      EU28  517836.0  502888.0  495145.0  486102.0  492083.0   \n",
       "\n",
       "       2010      2009      2008      2007      2006      2005      2004  \\\n",
       "0  166299.0  143052.0  181180.0  176327.0  159517.0  147064.0  142481.0   \n",
       "1   63858.0   53376.0   65339.0   62447.0   58309.0   53871.0   46923.0   \n",
       "2  187011.0  160875.0  197137.0  190105.0  175463.0  165908.0  160883.0   \n",
       "3   52877.0   44262.0   53467.0   47817.0   43097.0   38657.0   31628.0   \n",
       "4  449191.0  402557.0  493688.0  478972.0  446775.0  412912.0  380546.0   \n",
       "\n",
       "       2003      2002  2001  2000  1999  \n",
       "0  131439.0  126666.0   NaN   NaN   NaN  \n",
       "1   40317.0   39731.0   NaN   NaN   NaN  \n",
       "2  144982.0  134624.0   NaN   NaN   NaN  \n",
       "3   30994.0   30983.0   NaN   NaN   NaN  \n",
       "4  349210.0  345248.0   NaN   NaN   NaN  "
      ]
     },
     "execution_count": 4,
     "metadata": {},
     "output_type": "execute_result"
    }
   ],
   "source": [
    "df.head()"
   ]
  },
  {
   "cell_type": "code",
   "execution_count": 5,
   "metadata": {
    "collapsed": false
   },
   "outputs": [
    {
     "data": {
      "text/plain": [
       "geo            object\n",
       "trade_type     object\n",
       "partner        object\n",
       "2015          float64\n",
       "2014          float64\n",
       "2013          float64\n",
       "2012          float64\n",
       "2011          float64\n",
       "2010          float64\n",
       "2009          float64\n",
       "2008          float64\n",
       "2007          float64\n",
       "2006          float64\n",
       "2005          float64\n",
       "2004          float64\n",
       "2003          float64\n",
       "2002          float64\n",
       "2001          float64\n",
       "2000          float64\n",
       "1999          float64\n",
       "dtype: object"
      ]
     },
     "execution_count": 5,
     "metadata": {},
     "output_type": "execute_result"
    }
   ],
   "source": [
    "df.dtypes"
   ]
  },
  {
   "cell_type": "code",
   "execution_count": 6,
   "metadata": {
    "collapsed": true
   },
   "outputs": [],
   "source": [
    "df = df.set_index('geo')"
   ]
  },
  {
   "cell_type": "code",
   "execution_count": 7,
   "metadata": {
    "collapsed": true
   },
   "outputs": [],
   "source": [
    "yrs = [str(yr) for yr in range(2002, 2016)]"
   ]
  },
  {
   "cell_type": "code",
   "execution_count": 8,
   "metadata": {
    "collapsed": true
   },
   "outputs": [],
   "source": [
    "export_df = df[(df['trade_type'] == 'Export') & \n",
    "               (df['partner'] == 'EXT_EU28')].loc[['EU28', 'UK']][yrs].T"
   ]
  },
  {
   "cell_type": "code",
   "execution_count": 9,
   "metadata": {
    "collapsed": false
   },
   "outputs": [
    {
     "data": {
      "text/html": [
       "<div>\n",
       "<table border=\"1\" class=\"dataframe\">\n",
       "  <thead>\n",
       "    <tr style=\"text-align: right;\">\n",
       "      <th>geo</th>\n",
       "      <th>EU28</th>\n",
       "      <th>UK</th>\n",
       "    </tr>\n",
       "  </thead>\n",
       "  <tbody>\n",
       "    <tr>\n",
       "      <th>2002</th>\n",
       "      <td>1770688.0</td>\n",
       "      <td>228493.0</td>\n",
       "    </tr>\n",
       "    <tr>\n",
       "      <th>2003</th>\n",
       "      <td>1723332.0</td>\n",
       "      <td>219982.0</td>\n",
       "    </tr>\n",
       "    <tr>\n",
       "      <th>2004</th>\n",
       "      <td>1890370.0</td>\n",
       "      <td>229696.0</td>\n",
       "    </tr>\n",
       "    <tr>\n",
       "      <th>2005</th>\n",
       "      <td>2098946.0</td>\n",
       "      <td>272441.0</td>\n",
       "    </tr>\n",
       "    <tr>\n",
       "      <th>2006</th>\n",
       "      <td>2304970.0</td>\n",
       "      <td>267942.0</td>\n",
       "    </tr>\n",
       "  </tbody>\n",
       "</table>\n",
       "</div>"
      ],
      "text/plain": [
       "geo        EU28        UK\n",
       "2002  1770688.0  228493.0\n",
       "2003  1723332.0  219982.0\n",
       "2004  1890370.0  229696.0\n",
       "2005  2098946.0  272441.0\n",
       "2006  2304970.0  267942.0"
      ]
     },
     "execution_count": 9,
     "metadata": {},
     "output_type": "execute_result"
    }
   ],
   "source": [
    "export_df.head()"
   ]
  },
  {
   "cell_type": "code",
   "execution_count": 10,
   "metadata": {
    "collapsed": false
   },
   "outputs": [],
   "source": [
    "export_df = export_df.rename(columns={'EU28': 'EU28_TO_EXT', 'UK': 'UK_TO_EXT'})"
   ]
  },
  {
   "cell_type": "code",
   "execution_count": 11,
   "metadata": {
    "collapsed": true
   },
   "outputs": [],
   "source": [
    "export_df = pd.concat([export_df,\n",
    "                       df[(df['trade_type'] == 'Export') & \n",
    "                          (df['partner'] == 'EU28')].loc[\n",
    "                                                ['EU28', 'UK']][yrs].T], \n",
    "                      axis=1)"
   ]
  },
  {
   "cell_type": "code",
   "execution_count": 12,
   "metadata": {
    "collapsed": false
   },
   "outputs": [
    {
     "data": {
      "text/html": [
       "<div>\n",
       "<table border=\"1\" class=\"dataframe\">\n",
       "  <thead>\n",
       "    <tr style=\"text-align: right;\">\n",
       "      <th>geo</th>\n",
       "      <th>EU28_TO_EXT</th>\n",
       "      <th>UK_TO_EXT</th>\n",
       "      <th>EU28</th>\n",
       "      <th>UK</th>\n",
       "    </tr>\n",
       "  </thead>\n",
       "  <tbody>\n",
       "    <tr>\n",
       "      <th>2002</th>\n",
       "      <td>1770688.0</td>\n",
       "      <td>228493.0</td>\n",
       "      <td>3818366.0</td>\n",
       "      <td>364138.0</td>\n",
       "    </tr>\n",
       "    <tr>\n",
       "      <th>2003</th>\n",
       "      <td>1723332.0</td>\n",
       "      <td>219982.0</td>\n",
       "      <td>3854353.0</td>\n",
       "      <td>320375.0</td>\n",
       "    </tr>\n",
       "    <tr>\n",
       "      <th>2004</th>\n",
       "      <td>1890370.0</td>\n",
       "      <td>229696.0</td>\n",
       "      <td>4173739.0</td>\n",
       "      <td>328835.0</td>\n",
       "    </tr>\n",
       "    <tr>\n",
       "      <th>2005</th>\n",
       "      <td>2098946.0</td>\n",
       "      <td>272441.0</td>\n",
       "      <td>4464325.0</td>\n",
       "      <td>355831.0</td>\n",
       "    </tr>\n",
       "    <tr>\n",
       "      <th>2006</th>\n",
       "      <td>2304970.0</td>\n",
       "      <td>267942.0</td>\n",
       "      <td>5031897.0</td>\n",
       "      <td>450290.0</td>\n",
       "    </tr>\n",
       "  </tbody>\n",
       "</table>\n",
       "</div>"
      ],
      "text/plain": [
       "geo   EU28_TO_EXT  UK_TO_EXT       EU28        UK\n",
       "2002    1770688.0   228493.0  3818366.0  364138.0\n",
       "2003    1723332.0   219982.0  3854353.0  320375.0\n",
       "2004    1890370.0   229696.0  4173739.0  328835.0\n",
       "2005    2098946.0   272441.0  4464325.0  355831.0\n",
       "2006    2304970.0   267942.0  5031897.0  450290.0"
      ]
     },
     "execution_count": 12,
     "metadata": {},
     "output_type": "execute_result"
    }
   ],
   "source": [
    "export_df.head()"
   ]
  },
  {
   "cell_type": "code",
   "execution_count": 13,
   "metadata": {
    "collapsed": true
   },
   "outputs": [],
   "source": [
    "export_df = export_df.rename(columns={'EU28': 'EU28_TO_INT', \n",
    "                                      'UK': 'UK_TO_INT'})"
   ]
  },
  {
   "cell_type": "code",
   "execution_count": 14,
   "metadata": {
    "collapsed": false
   },
   "outputs": [
    {
     "data": {
      "text/html": [
       "<div>\n",
       "<table border=\"1\" class=\"dataframe\">\n",
       "  <thead>\n",
       "    <tr style=\"text-align: right;\">\n",
       "      <th>geo</th>\n",
       "      <th>EU28_TO_EXT</th>\n",
       "      <th>UK_TO_EXT</th>\n",
       "      <th>EU28_TO_INT</th>\n",
       "      <th>UK_TO_INT</th>\n",
       "    </tr>\n",
       "  </thead>\n",
       "  <tbody>\n",
       "    <tr>\n",
       "      <th>2002</th>\n",
       "      <td>1770688.0</td>\n",
       "      <td>228493.0</td>\n",
       "      <td>3818366.0</td>\n",
       "      <td>364138.0</td>\n",
       "    </tr>\n",
       "    <tr>\n",
       "      <th>2003</th>\n",
       "      <td>1723332.0</td>\n",
       "      <td>219982.0</td>\n",
       "      <td>3854353.0</td>\n",
       "      <td>320375.0</td>\n",
       "    </tr>\n",
       "    <tr>\n",
       "      <th>2004</th>\n",
       "      <td>1890370.0</td>\n",
       "      <td>229696.0</td>\n",
       "      <td>4173739.0</td>\n",
       "      <td>328835.0</td>\n",
       "    </tr>\n",
       "    <tr>\n",
       "      <th>2005</th>\n",
       "      <td>2098946.0</td>\n",
       "      <td>272441.0</td>\n",
       "      <td>4464325.0</td>\n",
       "      <td>355831.0</td>\n",
       "    </tr>\n",
       "    <tr>\n",
       "      <th>2006</th>\n",
       "      <td>2304970.0</td>\n",
       "      <td>267942.0</td>\n",
       "      <td>5031897.0</td>\n",
       "      <td>450290.0</td>\n",
       "    </tr>\n",
       "  </tbody>\n",
       "</table>\n",
       "</div>"
      ],
      "text/plain": [
       "geo   EU28_TO_EXT  UK_TO_EXT  EU28_TO_INT  UK_TO_INT\n",
       "2002    1770688.0   228493.0    3818366.0   364138.0\n",
       "2003    1723332.0   219982.0    3854353.0   320375.0\n",
       "2004    1890370.0   229696.0    4173739.0   328835.0\n",
       "2005    2098946.0   272441.0    4464325.0   355831.0\n",
       "2006    2304970.0   267942.0    5031897.0   450290.0"
      ]
     },
     "execution_count": 14,
     "metadata": {},
     "output_type": "execute_result"
    }
   ],
   "source": [
    "export_df.head()"
   ]
  },
  {
   "cell_type": "code",
   "execution_count": 15,
   "metadata": {
    "collapsed": false
   },
   "outputs": [
    {
     "data": {
      "text/plain": [
       "<matplotlib.axes._subplots.AxesSubplot at 0x114095790>"
      ]
     },
     "execution_count": 15,
     "metadata": {},
     "output_type": "execute_result"
    },
    {
     "data": {
      "image/png": "[encoded data removed]",
      "text/plain": [
       "<matplotlib.figure.Figure at 0x11409c550>"
      ]
     },
     "metadata": {},
     "output_type": "display_data"
    }
   ],
   "source": [
    "export_df.plot()"
   ]
  },
  {
   "cell_type": "code",
   "execution_count": 16,
   "metadata": {
    "collapsed": false
   },
   "outputs": [
    {
     "data": {
      "text/plain": [
       "<matplotlib.axes._subplots.AxesSubplot at 0x114172e90>"
      ]
     },
     "execution_count": 16,
     "metadata": {},
     "output_type": "execute_result"
    },
    {
     "data": {
      "image/png": "[encoded data removed]",
      "text/plain": [
       "<matplotlib.figure.Figure at 0x11415f050>"
      ]
     },
     "metadata": {},
     "output_type": "display_data"
    }
   ],
   "source": [
    "export_df[['UK_TO_EXT', 'UK_TO_INT']].plot()"
   ]
  },
  {
   "cell_type": "code",
   "execution_count": 17,
   "metadata": {
    "collapsed": true
   },
   "outputs": [],
   "source": [
    "df = df[~df.index.isin(['EU28'])]"
   ]
  },
  {
   "cell_type": "code",
   "execution_count": 18,
   "metadata": {
    "collapsed": true
   },
   "outputs": [],
   "source": [
    "pct_change_df = df.copy()"
   ]
  },
  {
   "cell_type": "code",
   "execution_count": 19,
   "metadata": {
    "collapsed": true
   },
   "outputs": [],
   "source": [
    "for yr in yrs:\n",
    "    pct_change_df[yr] = (df[yr] - df[str(int(yr)-1)]) / df[str(int(yr)-1)]"
   ]
  },
  {
   "cell_type": "code",
   "execution_count": 20,
   "metadata": {
    "collapsed": false
   },
   "outputs": [
    {
     "data": {
      "text/html": [
       "<div>\n",
       "<table border=\"1\" class=\"dataframe\">\n",
       "  <thead>\n",
       "    <tr style=\"text-align: right;\">\n",
       "      <th></th>\n",
       "      <th>trade_type</th>\n",
       "      <th>partner</th>\n",
       "      <th>2015</th>\n",
       "      <th>2014</th>\n",
       "      <th>2013</th>\n",
       "      <th>2012</th>\n",
       "      <th>2011</th>\n",
       "      <th>2010</th>\n",
       "      <th>2009</th>\n",
       "      <th>2008</th>\n",
       "      <th>2007</th>\n",
       "      <th>2006</th>\n",
       "      <th>2005</th>\n",
       "      <th>2004</th>\n",
       "      <th>2003</th>\n",
       "      <th>2002</th>\n",
       "      <th>2001</th>\n",
       "      <th>2000</th>\n",
       "      <th>1999</th>\n",
       "    </tr>\n",
       "    <tr>\n",
       "      <th>geo</th>\n",
       "      <th></th>\n",
       "      <th></th>\n",
       "      <th></th>\n",
       "      <th></th>\n",
       "      <th></th>\n",
       "      <th></th>\n",
       "      <th></th>\n",
       "      <th></th>\n",
       "      <th></th>\n",
       "      <th></th>\n",
       "      <th></th>\n",
       "      <th></th>\n",
       "      <th></th>\n",
       "      <th></th>\n",
       "      <th></th>\n",
       "      <th></th>\n",
       "      <th></th>\n",
       "      <th></th>\n",
       "      <th></th>\n",
       "    </tr>\n",
       "  </thead>\n",
       "  <tbody>\n",
       "    <tr>\n",
       "      <th>AT</th>\n",
       "      <td>Export</td>\n",
       "      <td>EU28</td>\n",
       "      <td>0.029299</td>\n",
       "      <td>0.014513</td>\n",
       "      <td>0.017480</td>\n",
       "      <td>-0.001100</td>\n",
       "      <td>0.093747</td>\n",
       "      <td>0.162507</td>\n",
       "      <td>-0.210443</td>\n",
       "      <td>0.027523</td>\n",
       "      <td>0.105381</td>\n",
       "      <td>0.084677</td>\n",
       "      <td>0.032166</td>\n",
       "      <td>0.084009</td>\n",
       "      <td>0.037682</td>\n",
       "      <td>NaN</td>\n",
       "      <td>NaN</td>\n",
       "      <td>NaN</td>\n",
       "      <td>NaN</td>\n",
       "    </tr>\n",
       "    <tr>\n",
       "      <th>AT</th>\n",
       "      <td>Export</td>\n",
       "      <td>EXT_EU28</td>\n",
       "      <td>0.020681</td>\n",
       "      <td>0.024004</td>\n",
       "      <td>0.015901</td>\n",
       "      <td>0.063392</td>\n",
       "      <td>0.143756</td>\n",
       "      <td>0.196380</td>\n",
       "      <td>-0.183091</td>\n",
       "      <td>0.046311</td>\n",
       "      <td>0.070967</td>\n",
       "      <td>0.082382</td>\n",
       "      <td>0.148072</td>\n",
       "      <td>0.163851</td>\n",
       "      <td>0.014749</td>\n",
       "      <td>NaN</td>\n",
       "      <td>NaN</td>\n",
       "      <td>NaN</td>\n",
       "      <td>NaN</td>\n",
       "    </tr>\n",
       "    <tr>\n",
       "      <th>AT</th>\n",
       "      <td>Import</td>\n",
       "      <td>EU28</td>\n",
       "      <td>0.021526</td>\n",
       "      <td>-0.004502</td>\n",
       "      <td>-0.005185</td>\n",
       "      <td>-0.000884</td>\n",
       "      <td>0.137548</td>\n",
       "      <td>0.162462</td>\n",
       "      <td>-0.183943</td>\n",
       "      <td>0.036990</td>\n",
       "      <td>0.083448</td>\n",
       "      <td>0.057592</td>\n",
       "      <td>0.031234</td>\n",
       "      <td>0.109676</td>\n",
       "      <td>0.076940</td>\n",
       "      <td>NaN</td>\n",
       "      <td>NaN</td>\n",
       "      <td>NaN</td>\n",
       "      <td>NaN</td>\n",
       "    </tr>\n",
       "    <tr>\n",
       "      <th>AT</th>\n",
       "      <td>Import</td>\n",
       "      <td>EXT_EU28</td>\n",
       "      <td>0.027255</td>\n",
       "      <td>-0.016157</td>\n",
       "      <td>-0.011984</td>\n",
       "      <td>0.048866</td>\n",
       "      <td>0.178074</td>\n",
       "      <td>0.194636</td>\n",
       "      <td>-0.172162</td>\n",
       "      <td>0.118159</td>\n",
       "      <td>0.109520</td>\n",
       "      <td>0.114856</td>\n",
       "      <td>0.222240</td>\n",
       "      <td>0.020456</td>\n",
       "      <td>0.000355</td>\n",
       "      <td>NaN</td>\n",
       "      <td>NaN</td>\n",
       "      <td>NaN</td>\n",
       "      <td>NaN</td>\n",
       "    </tr>\n",
       "    <tr>\n",
       "      <th>BE</th>\n",
       "      <td>Export</td>\n",
       "      <td>EU28</td>\n",
       "      <td>0.029724</td>\n",
       "      <td>0.015638</td>\n",
       "      <td>0.018603</td>\n",
       "      <td>-0.012154</td>\n",
       "      <td>0.095487</td>\n",
       "      <td>0.115844</td>\n",
       "      <td>-0.184592</td>\n",
       "      <td>0.030724</td>\n",
       "      <td>0.072065</td>\n",
       "      <td>0.082010</td>\n",
       "      <td>0.085051</td>\n",
       "      <td>0.089734</td>\n",
       "      <td>0.011476</td>\n",
       "      <td>NaN</td>\n",
       "      <td>NaN</td>\n",
       "      <td>NaN</td>\n",
       "      <td>NaN</td>\n",
       "    </tr>\n",
       "  </tbody>\n",
       "</table>\n",
       "</div>"
      ],
      "text/plain": [
       "    trade_type   partner      2015      2014      2013      2012      2011  \\\n",
       "geo                                                                          \n",
       "AT      Export      EU28  0.029299  0.014513  0.017480 -0.001100  0.093747   \n",
       "AT      Export  EXT_EU28  0.020681  0.024004  0.015901  0.063392  0.143756   \n",
       "AT      Import      EU28  0.021526 -0.004502 -0.005185 -0.000884  0.137548   \n",
       "AT      Import  EXT_EU28  0.027255 -0.016157 -0.011984  0.048866  0.178074   \n",
       "BE      Export      EU28  0.029724  0.015638  0.018603 -0.012154  0.095487   \n",
       "\n",
       "         2010      2009      2008      2007      2006      2005      2004  \\\n",
       "geo                                                                         \n",
       "AT   0.162507 -0.210443  0.027523  0.105381  0.084677  0.032166  0.084009   \n",
       "AT   0.196380 -0.183091  0.046311  0.070967  0.082382  0.148072  0.163851   \n",
       "AT   0.162462 -0.183943  0.036990  0.083448  0.057592  0.031234  0.109676   \n",
       "AT   0.194636 -0.172162  0.118159  0.109520  0.114856  0.222240  0.020456   \n",
       "BE   0.115844 -0.184592  0.030724  0.072065  0.082010  0.085051  0.089734   \n",
       "\n",
       "         2003  2002  2001  2000  1999  \n",
       "geo                                    \n",
       "AT   0.037682   NaN   NaN   NaN   NaN  \n",
       "AT   0.014749   NaN   NaN   NaN   NaN  \n",
       "AT   0.076940   NaN   NaN   NaN   NaN  \n",
       "AT   0.000355   NaN   NaN   NaN   NaN  \n",
       "BE   0.011476   NaN   NaN   NaN   NaN  "
      ]
     },
     "execution_count": 20,
     "metadata": {},
     "output_type": "execute_result"
    }
   ],
   "source": [
    "pct_change_df.head()"
   ]
  },
  {
   "cell_type": "code",
   "execution_count": 21,
   "metadata": {
    "collapsed": false
   },
   "outputs": [
    {
     "data": {
      "text/plain": [
       "[('2002', nan),\n",
       " ('2003', 0.922437290580437),\n",
       " ('2004', 1.1973918362807252),\n",
       " ('2005', 0.77510836760343016),\n",
       " ('2006', 1.0974189015338094),\n",
       " ('2007', 0.68337596565606351),\n",
       " ('2008', 0.73242893213138349),\n",
       " ('2009', 0.41701830776207),\n",
       " ('2010', 0.77620824423939028),\n",
       " ('2011', 0.64468658836173809),\n",
       " ('2012', 0.40757073398065757),\n",
       " ('2013', 0.50770193608178382),\n",
       " ('2014', 0.69787182660594926),\n",
       " ('2015', 0.65402845613708527)]"
      ]
     },
     "execution_count": 21,
     "metadata": {},
     "output_type": "execute_result"
    }
   ],
   "source": [
    "[(yr, abs(pct_change_df[yr].max() - pct_change_df[yr].min())) for yr in yrs]"
   ]
  },
  {
   "cell_type": "code",
   "execution_count": 22,
   "metadata": {
    "collapsed": false
   },
   "outputs": [
    {
     "data": {
      "text/plain": [
       "0.11778424716089249"
      ]
     },
     "execution_count": 22,
     "metadata": {},
     "output_type": "execute_result"
    }
   ],
   "source": [
    "pct_change_df['2010'].std()"
   ]
  },
  {
   "cell_type": "code",
   "execution_count": 23,
   "metadata": {
    "collapsed": false
   },
   "outputs": [
    {
     "data": {
      "text/plain": [
       "0.20447136781293507"
      ]
     },
     "execution_count": 23,
     "metadata": {},
     "output_type": "execute_result"
    }
   ],
   "source": [
    "pct_change_df['2010'].mean()"
   ]
  },
  {
   "cell_type": "code",
   "execution_count": 24,
   "metadata": {
    "collapsed": false
   },
   "outputs": [
    {
     "data": {
      "text/html": [
       "<div>\n",
       "<table border=\"1\" class=\"dataframe\">\n",
       "  <thead>\n",
       "    <tr style=\"text-align: right;\">\n",
       "      <th></th>\n",
       "      <th>trade_type</th>\n",
       "      <th>partner</th>\n",
       "      <th>2015</th>\n",
       "      <th>2014</th>\n",
       "      <th>2013</th>\n",
       "      <th>2012</th>\n",
       "      <th>2011</th>\n",
       "      <th>2010</th>\n",
       "      <th>2009</th>\n",
       "      <th>2008</th>\n",
       "      <th>2007</th>\n",
       "      <th>2006</th>\n",
       "      <th>2005</th>\n",
       "      <th>2004</th>\n",
       "      <th>2003</th>\n",
       "      <th>2002</th>\n",
       "      <th>2001</th>\n",
       "      <th>2000</th>\n",
       "      <th>1999</th>\n",
       "    </tr>\n",
       "    <tr>\n",
       "      <th>geo</th>\n",
       "      <th></th>\n",
       "      <th></th>\n",
       "      <th></th>\n",
       "      <th></th>\n",
       "      <th></th>\n",
       "      <th></th>\n",
       "      <th></th>\n",
       "      <th></th>\n",
       "      <th></th>\n",
       "      <th></th>\n",
       "      <th></th>\n",
       "      <th></th>\n",
       "      <th></th>\n",
       "      <th></th>\n",
       "      <th></th>\n",
       "      <th></th>\n",
       "      <th></th>\n",
       "      <th></th>\n",
       "      <th></th>\n",
       "    </tr>\n",
       "  </thead>\n",
       "  <tbody>\n",
       "    <tr>\n",
       "      <th>BG</th>\n",
       "      <td>Export</td>\n",
       "      <td>EXT_EU28</td>\n",
       "      <td>0.000785</td>\n",
       "      <td>-0.071965</td>\n",
       "      <td>0.045409</td>\n",
       "      <td>0.126386</td>\n",
       "      <td>0.260671</td>\n",
       "      <td>0.489159</td>\n",
       "      <td>-0.322789</td>\n",
       "      <td>0.153392</td>\n",
       "      <td>0.169818</td>\n",
       "      <td>0.266743</td>\n",
       "      <td>0.288433</td>\n",
       "      <td>0.119338</td>\n",
       "      <td>0.058218</td>\n",
       "      <td>NaN</td>\n",
       "      <td>NaN</td>\n",
       "      <td>NaN</td>\n",
       "      <td>NaN</td>\n",
       "    </tr>\n",
       "    <tr>\n",
       "      <th>CZ</th>\n",
       "      <td>Import</td>\n",
       "      <td>EXT_EU28</td>\n",
       "      <td>0.102882</td>\n",
       "      <td>0.043694</td>\n",
       "      <td>-0.070514</td>\n",
       "      <td>-0.022636</td>\n",
       "      <td>0.158539</td>\n",
       "      <td>0.452684</td>\n",
       "      <td>-0.259793</td>\n",
       "      <td>0.301929</td>\n",
       "      <td>0.185348</td>\n",
       "      <td>0.266972</td>\n",
       "      <td>0.032504</td>\n",
       "      <td>-0.154460</td>\n",
       "      <td>0.107936</td>\n",
       "      <td>NaN</td>\n",
       "      <td>NaN</td>\n",
       "      <td>NaN</td>\n",
       "      <td>NaN</td>\n",
       "    </tr>\n",
       "    <tr>\n",
       "      <th>LT</th>\n",
       "      <td>Export</td>\n",
       "      <td>EXT_EU28</td>\n",
       "      <td>-0.191402</td>\n",
       "      <td>0.006403</td>\n",
       "      <td>0.198597</td>\n",
       "      <td>0.172429</td>\n",
       "      <td>0.276142</td>\n",
       "      <td>0.449822</td>\n",
       "      <td>-0.340340</td>\n",
       "      <td>0.449244</td>\n",
       "      <td>0.075822</td>\n",
       "      <td>0.257226</td>\n",
       "      <td>0.331423</td>\n",
       "      <td>0.067060</td>\n",
       "      <td>0.348454</td>\n",
       "      <td>NaN</td>\n",
       "      <td>NaN</td>\n",
       "      <td>NaN</td>\n",
       "      <td>NaN</td>\n",
       "    </tr>\n",
       "  </tbody>\n",
       "</table>\n",
       "</div>"
      ],
      "text/plain": [
       "    trade_type   partner      2015      2014      2013      2012      2011  \\\n",
       "geo                                                                          \n",
       "BG      Export  EXT_EU28  0.000785 -0.071965  0.045409  0.126386  0.260671   \n",
       "CZ      Import  EXT_EU28  0.102882  0.043694 -0.070514 -0.022636  0.158539   \n",
       "LT      Export  EXT_EU28 -0.191402  0.006403  0.198597  0.172429  0.276142   \n",
       "\n",
       "         2010      2009      2008      2007      2006      2005      2004  \\\n",
       "geo                                                                         \n",
       "BG   0.489159 -0.322789  0.153392  0.169818  0.266743  0.288433  0.119338   \n",
       "CZ   0.452684 -0.259793  0.301929  0.185348  0.266972  0.032504 -0.154460   \n",
       "LT   0.449822 -0.340340  0.449244  0.075822  0.257226  0.331423  0.067060   \n",
       "\n",
       "         2003  2002  2001  2000  1999  \n",
       "geo                                    \n",
       "BG   0.058218   NaN   NaN   NaN   NaN  \n",
       "CZ   0.107936   NaN   NaN   NaN   NaN  \n",
       "LT   0.348454   NaN   NaN   NaN   NaN  "
      ]
     },
     "execution_count": 24,
     "metadata": {},
     "output_type": "execute_result"
    }
   ],
   "source": [
    "pct_change_df[pct_change_df['2010'].abs() >= (pct_change_df['2010'].mean() + \n",
    "                                              2*pct_change_df['2010'].std())]"
   ]
  },
  {
   "cell_type": "code",
   "execution_count": 25,
   "metadata": {
    "collapsed": false
   },
   "outputs": [
    {
     "data": {
      "text/plain": [
       "geo\n",
       "LU   -0.287050\n",
       "LU   -0.118591\n",
       "EL   -0.113044\n",
       "HR   -0.045526\n",
       "IE   -0.042371\n",
       "IE    0.003527\n",
       "IE    0.039697\n",
       "DK    0.047805\n",
       "DK    0.050215\n",
       "DK    0.053122\n",
       "HR    0.062120\n",
       "EL    0.093680\n",
       "FR    0.106570\n",
       "PT    0.109449\n",
       "ES    0.110758\n",
       "BG    0.111965\n",
       "MT    0.112542\n",
       "BE    0.115844\n",
       "CY    0.117683\n",
       "FR    0.123650\n",
       "EL    0.132565\n",
       "FI    0.136728\n",
       "DE    0.139136\n",
       "BE    0.139652\n",
       "IE    0.142192\n",
       "DK    0.146256\n",
       "SI    0.146373\n",
       "IT    0.147951\n",
       "SI    0.148808\n",
       "LU    0.157511\n",
       "        ...   \n",
       "PL    0.266329\n",
       "NL    0.268815\n",
       "ES    0.277191\n",
       "BE    0.281675\n",
       "EL    0.284633\n",
       "LT    0.288320\n",
       "SE    0.289761\n",
       "LV    0.294582\n",
       "UK    0.294665\n",
       "MT    0.294668\n",
       "CZ    0.306317\n",
       "IT    0.312230\n",
       "EE    0.312303\n",
       "SE    0.315566\n",
       "LV    0.316998\n",
       "HU    0.318835\n",
       "SI    0.325969\n",
       "EE    0.329750\n",
       "PL    0.336837\n",
       "SE    0.344466\n",
       "SK    0.351815\n",
       "MT    0.357491\n",
       "SK    0.372937\n",
       "RO    0.387858\n",
       "EE    0.389522\n",
       "MT    0.420200\n",
       "LT    0.427507\n",
       "LT    0.449822\n",
       "CZ    0.452684\n",
       "BG    0.489159\n",
       "Name: 2010, dtype: float64"
      ]
     },
     "execution_count": 25,
     "metadata": {},
     "output_type": "execute_result"
    }
   ],
   "source": [
    "pct_change_df['2010'].sort_values()"
   ]
  },
  {
   "cell_type": "code",
   "execution_count": 26,
   "metadata": {
    "collapsed": false
   },
   "outputs": [
    {
     "data": {
      "text/html": [
       "<div>\n",
       "<table border=\"1\" class=\"dataframe\">\n",
       "  <thead>\n",
       "    <tr style=\"text-align: right;\">\n",
       "      <th></th>\n",
       "      <th>trade_type</th>\n",
       "      <th>partner</th>\n",
       "      <th>2015</th>\n",
       "      <th>2014</th>\n",
       "      <th>2013</th>\n",
       "      <th>2012</th>\n",
       "      <th>2011</th>\n",
       "      <th>2010</th>\n",
       "      <th>2009</th>\n",
       "      <th>2008</th>\n",
       "      <th>2007</th>\n",
       "      <th>2006</th>\n",
       "      <th>2005</th>\n",
       "      <th>2004</th>\n",
       "      <th>2003</th>\n",
       "      <th>2002</th>\n",
       "      <th>2001</th>\n",
       "      <th>2000</th>\n",
       "      <th>1999</th>\n",
       "    </tr>\n",
       "    <tr>\n",
       "      <th>geo</th>\n",
       "      <th></th>\n",
       "      <th></th>\n",
       "      <th></th>\n",
       "      <th></th>\n",
       "      <th></th>\n",
       "      <th></th>\n",
       "      <th></th>\n",
       "      <th></th>\n",
       "      <th></th>\n",
       "      <th></th>\n",
       "      <th></th>\n",
       "      <th></th>\n",
       "      <th></th>\n",
       "      <th></th>\n",
       "      <th></th>\n",
       "      <th></th>\n",
       "      <th></th>\n",
       "      <th></th>\n",
       "      <th></th>\n",
       "    </tr>\n",
       "  </thead>\n",
       "  <tbody>\n",
       "    <tr>\n",
       "      <th>EL</th>\n",
       "      <td>Import</td>\n",
       "      <td>EU28</td>\n",
       "      <td>-0.011554</td>\n",
       "      <td>0.052153</td>\n",
       "      <td>-0.024641</td>\n",
       "      <td>-0.092378</td>\n",
       "      <td>-0.064558</td>\n",
       "      <td>-0.113044</td>\n",
       "      <td>-0.167735</td>\n",
       "      <td>0.034348</td>\n",
       "      <td>0.121114</td>\n",
       "      <td>0.105525</td>\n",
       "      <td>-0.002684</td>\n",
       "      <td>0.223572</td>\n",
       "      <td>0.242409</td>\n",
       "      <td>NaN</td>\n",
       "      <td>NaN</td>\n",
       "      <td>NaN</td>\n",
       "      <td>NaN</td>\n",
       "    </tr>\n",
       "    <tr>\n",
       "      <th>HR</th>\n",
       "      <td>Import</td>\n",
       "      <td>EU28</td>\n",
       "      <td>0.103244</td>\n",
       "      <td>0.178629</td>\n",
       "      <td>0.094336</td>\n",
       "      <td>0.006855</td>\n",
       "      <td>0.104890</td>\n",
       "      <td>-0.045526</td>\n",
       "      <td>-0.285067</td>\n",
       "      <td>0.094356</td>\n",
       "      <td>0.061801</td>\n",
       "      <td>0.131649</td>\n",
       "      <td>0.070830</td>\n",
       "      <td>0.033353</td>\n",
       "      <td>0.126327</td>\n",
       "      <td>NaN</td>\n",
       "      <td>NaN</td>\n",
       "      <td>NaN</td>\n",
       "      <td>NaN</td>\n",
       "    </tr>\n",
       "    <tr>\n",
       "      <th>IE</th>\n",
       "      <td>Import</td>\n",
       "      <td>EXT_EU28</td>\n",
       "      <td>0.095668</td>\n",
       "      <td>0.146735</td>\n",
       "      <td>0.097808</td>\n",
       "      <td>0.108564</td>\n",
       "      <td>-0.016647</td>\n",
       "      <td>-0.042371</td>\n",
       "      <td>-0.097875</td>\n",
       "      <td>-0.064441</td>\n",
       "      <td>0.001091</td>\n",
       "      <td>-0.000545</td>\n",
       "      <td>0.082031</td>\n",
       "      <td>-0.042978</td>\n",
       "      <td>-0.028298</td>\n",
       "      <td>NaN</td>\n",
       "      <td>NaN</td>\n",
       "      <td>NaN</td>\n",
       "      <td>NaN</td>\n",
       "    </tr>\n",
       "    <tr>\n",
       "      <th>LU</th>\n",
       "      <td>Export</td>\n",
       "      <td>EU28</td>\n",
       "      <td>0.092843</td>\n",
       "      <td>0.062869</td>\n",
       "      <td>-0.027817</td>\n",
       "      <td>-0.037380</td>\n",
       "      <td>0.021101</td>\n",
       "      <td>-0.118591</td>\n",
       "      <td>-0.135602</td>\n",
       "      <td>0.051926</td>\n",
       "      <td>-0.102930</td>\n",
       "      <td>0.190753</td>\n",
       "      <td>0.166059</td>\n",
       "      <td>0.122882</td>\n",
       "      <td>0.100969</td>\n",
       "      <td>NaN</td>\n",
       "      <td>NaN</td>\n",
       "      <td>NaN</td>\n",
       "      <td>NaN</td>\n",
       "    </tr>\n",
       "    <tr>\n",
       "      <th>LU</th>\n",
       "      <td>Import</td>\n",
       "      <td>EXT_EU28</td>\n",
       "      <td>0.452790</td>\n",
       "      <td>-0.048928</td>\n",
       "      <td>-0.136559</td>\n",
       "      <td>0.279079</td>\n",
       "      <td>0.032977</td>\n",
       "      <td>-0.287050</td>\n",
       "      <td>-0.062342</td>\n",
       "      <td>0.028338</td>\n",
       "      <td>-0.153985</td>\n",
       "      <td>0.269407</td>\n",
       "      <td>0.294330</td>\n",
       "      <td>0.201769</td>\n",
       "      <td>0.441710</td>\n",
       "      <td>NaN</td>\n",
       "      <td>NaN</td>\n",
       "      <td>NaN</td>\n",
       "      <td>NaN</td>\n",
       "    </tr>\n",
       "  </tbody>\n",
       "</table>\n",
       "</div>"
      ],
      "text/plain": [
       "    trade_type   partner      2015      2014      2013      2012      2011  \\\n",
       "geo                                                                          \n",
       "EL      Import      EU28 -0.011554  0.052153 -0.024641 -0.092378 -0.064558   \n",
       "HR      Import      EU28  0.103244  0.178629  0.094336  0.006855  0.104890   \n",
       "IE      Import  EXT_EU28  0.095668  0.146735  0.097808  0.108564 -0.016647   \n",
       "LU      Export      EU28  0.092843  0.062869 -0.027817 -0.037380  0.021101   \n",
       "LU      Import  EXT_EU28  0.452790 -0.048928 -0.136559  0.279079  0.032977   \n",
       "\n",
       "         2010      2009      2008      2007      2006      2005      2004  \\\n",
       "geo                                                                         \n",
       "EL  -0.113044 -0.167735  0.034348  0.121114  0.105525 -0.002684  0.223572   \n",
       "HR  -0.045526 -0.285067  0.094356  0.061801  0.131649  0.070830  0.033353   \n",
       "IE  -0.042371 -0.097875 -0.064441  0.001091 -0.000545  0.082031 -0.042978   \n",
       "LU  -0.118591 -0.135602  0.051926 -0.102930  0.190753  0.166059  0.122882   \n",
       "LU  -0.287050 -0.062342  0.028338 -0.153985  0.269407  0.294330  0.201769   \n",
       "\n",
       "         2003  2002  2001  2000  1999  \n",
       "geo                                    \n",
       "EL   0.242409   NaN   NaN   NaN   NaN  \n",
       "HR   0.126327   NaN   NaN   NaN   NaN  \n",
       "IE  -0.028298   NaN   NaN   NaN   NaN  \n",
       "LU   0.100969   NaN   NaN   NaN   NaN  \n",
       "LU   0.441710   NaN   NaN   NaN   NaN  "
      ]
     },
     "execution_count": 26,
     "metadata": {},
     "output_type": "execute_result"
    }
   ],
   "source": [
    "pct_change_df[pct_change_df['2010'] < 0]"
   ]
  },
  {
   "cell_type": "code",
   "execution_count": 27,
   "metadata": {
    "collapsed": false
   },
   "outputs": [
    {
     "data": {
      "text/html": [
       "<div>\n",
       "<table border=\"1\" class=\"dataframe\">\n",
       "  <thead>\n",
       "    <tr style=\"text-align: right;\">\n",
       "      <th></th>\n",
       "      <th>trade_type</th>\n",
       "      <th>partner</th>\n",
       "      <th>2015</th>\n",
       "      <th>2014</th>\n",
       "      <th>2013</th>\n",
       "      <th>2012</th>\n",
       "      <th>2011</th>\n",
       "      <th>2010</th>\n",
       "      <th>2009</th>\n",
       "      <th>2008</th>\n",
       "      <th>2007</th>\n",
       "      <th>2006</th>\n",
       "      <th>2005</th>\n",
       "      <th>2004</th>\n",
       "      <th>2003</th>\n",
       "      <th>2002</th>\n",
       "      <th>2001</th>\n",
       "      <th>2000</th>\n",
       "      <th>1999</th>\n",
       "    </tr>\n",
       "    <tr>\n",
       "      <th>geo</th>\n",
       "      <th></th>\n",
       "      <th></th>\n",
       "      <th></th>\n",
       "      <th></th>\n",
       "      <th></th>\n",
       "      <th></th>\n",
       "      <th></th>\n",
       "      <th></th>\n",
       "      <th></th>\n",
       "      <th></th>\n",
       "      <th></th>\n",
       "      <th></th>\n",
       "      <th></th>\n",
       "      <th></th>\n",
       "      <th></th>\n",
       "      <th></th>\n",
       "      <th></th>\n",
       "      <th></th>\n",
       "      <th></th>\n",
       "    </tr>\n",
       "  </thead>\n",
       "  <tbody>\n",
       "    <tr>\n",
       "      <th>BG</th>\n",
       "      <td>Export</td>\n",
       "      <td>EXT_EU28</td>\n",
       "      <td>0.000785</td>\n",
       "      <td>-0.071965</td>\n",
       "      <td>0.045409</td>\n",
       "      <td>0.126386</td>\n",
       "      <td>0.260671</td>\n",
       "      <td>0.489159</td>\n",
       "      <td>-0.322789</td>\n",
       "      <td>0.153392</td>\n",
       "      <td>0.169818</td>\n",
       "      <td>0.266743</td>\n",
       "      <td>0.288433</td>\n",
       "      <td>0.119338</td>\n",
       "      <td>0.058218</td>\n",
       "      <td>NaN</td>\n",
       "      <td>NaN</td>\n",
       "      <td>NaN</td>\n",
       "      <td>NaN</td>\n",
       "    </tr>\n",
       "    <tr>\n",
       "      <th>CZ</th>\n",
       "      <td>Import</td>\n",
       "      <td>EXT_EU28</td>\n",
       "      <td>0.102882</td>\n",
       "      <td>0.043694</td>\n",
       "      <td>-0.070514</td>\n",
       "      <td>-0.022636</td>\n",
       "      <td>0.158539</td>\n",
       "      <td>0.452684</td>\n",
       "      <td>-0.259793</td>\n",
       "      <td>0.301929</td>\n",
       "      <td>0.185348</td>\n",
       "      <td>0.266972</td>\n",
       "      <td>0.032504</td>\n",
       "      <td>-0.154460</td>\n",
       "      <td>0.107936</td>\n",
       "      <td>NaN</td>\n",
       "      <td>NaN</td>\n",
       "      <td>NaN</td>\n",
       "      <td>NaN</td>\n",
       "    </tr>\n",
       "    <tr>\n",
       "      <th>LT</th>\n",
       "      <td>Export</td>\n",
       "      <td>EXT_EU28</td>\n",
       "      <td>-0.191402</td>\n",
       "      <td>0.006403</td>\n",
       "      <td>0.198597</td>\n",
       "      <td>0.172429</td>\n",
       "      <td>0.276142</td>\n",
       "      <td>0.449822</td>\n",
       "      <td>-0.340340</td>\n",
       "      <td>0.449244</td>\n",
       "      <td>0.075822</td>\n",
       "      <td>0.257226</td>\n",
       "      <td>0.331423</td>\n",
       "      <td>0.067060</td>\n",
       "      <td>0.348454</td>\n",
       "      <td>NaN</td>\n",
       "      <td>NaN</td>\n",
       "      <td>NaN</td>\n",
       "      <td>NaN</td>\n",
       "    </tr>\n",
       "    <tr>\n",
       "      <th>LT</th>\n",
       "      <td>Import</td>\n",
       "      <td>EXT_EU28</td>\n",
       "      <td>-0.058658</td>\n",
       "      <td>-0.143427</td>\n",
       "      <td>-0.013144</td>\n",
       "      <td>0.067575</td>\n",
       "      <td>0.288577</td>\n",
       "      <td>0.427507</td>\n",
       "      <td>-0.401784</td>\n",
       "      <td>0.592402</td>\n",
       "      <td>-0.019068</td>\n",
       "      <td>0.135555</td>\n",
       "      <td>0.393113</td>\n",
       "      <td>-0.029152</td>\n",
       "      <td>0.089929</td>\n",
       "      <td>NaN</td>\n",
       "      <td>NaN</td>\n",
       "      <td>NaN</td>\n",
       "      <td>NaN</td>\n",
       "    </tr>\n",
       "    <tr>\n",
       "      <th>MT</th>\n",
       "      <td>Import</td>\n",
       "      <td>EXT_EU28</td>\n",
       "      <td>-0.054859</td>\n",
       "      <td>0.427825</td>\n",
       "      <td>0.138429</td>\n",
       "      <td>-0.004228</td>\n",
       "      <td>0.038191</td>\n",
       "      <td>0.420200</td>\n",
       "      <td>-0.055915</td>\n",
       "      <td>-0.068020</td>\n",
       "      <td>-0.092583</td>\n",
       "      <td>0.393204</td>\n",
       "      <td>-0.078005</td>\n",
       "      <td>-0.138767</td>\n",
       "      <td>0.019652</td>\n",
       "      <td>NaN</td>\n",
       "      <td>NaN</td>\n",
       "      <td>NaN</td>\n",
       "      <td>NaN</td>\n",
       "    </tr>\n",
       "  </tbody>\n",
       "</table>\n",
       "</div>"
      ],
      "text/plain": [
       "    trade_type   partner      2015      2014      2013      2012      2011  \\\n",
       "geo                                                                          \n",
       "BG      Export  EXT_EU28  0.000785 -0.071965  0.045409  0.126386  0.260671   \n",
       "CZ      Import  EXT_EU28  0.102882  0.043694 -0.070514 -0.022636  0.158539   \n",
       "LT      Export  EXT_EU28 -0.191402  0.006403  0.198597  0.172429  0.276142   \n",
       "LT      Import  EXT_EU28 -0.058658 -0.143427 -0.013144  0.067575  0.288577   \n",
       "MT      Import  EXT_EU28 -0.054859  0.427825  0.138429 -0.004228  0.038191   \n",
       "\n",
       "         2010      2009      2008      2007      2006      2005      2004  \\\n",
       "geo                                                                         \n",
       "BG   0.489159 -0.322789  0.153392  0.169818  0.266743  0.288433  0.119338   \n",
       "CZ   0.452684 -0.259793  0.301929  0.185348  0.266972  0.032504 -0.154460   \n",
       "LT   0.449822 -0.340340  0.449244  0.075822  0.257226  0.331423  0.067060   \n",
       "LT   0.427507 -0.401784  0.592402 -0.019068  0.135555  0.393113 -0.029152   \n",
       "MT   0.420200 -0.055915 -0.068020 -0.092583  0.393204 -0.078005 -0.138767   \n",
       "\n",
       "         2003  2002  2001  2000  1999  \n",
       "geo                                    \n",
       "BG   0.058218   NaN   NaN   NaN   NaN  \n",
       "CZ   0.107936   NaN   NaN   NaN   NaN  \n",
       "LT   0.348454   NaN   NaN   NaN   NaN  \n",
       "LT   0.089929   NaN   NaN   NaN   NaN  \n",
       "MT   0.019652   NaN   NaN   NaN   NaN  "
      ]
     },
     "execution_count": 27,
     "metadata": {},
     "output_type": "execute_result"
    }
   ],
   "source": [
    "pct_change_df[pct_change_df['2010'] > .4]"
   ]
  },
  {
   "cell_type": "code",
   "execution_count": null,
   "metadata": {
    "collapsed": true
   },
   "outputs": [],
   "source": []
  }
 ],
 "metadata": {
  "kernelspec": {
   "display_name": "Python 2",
   "language": "python",
   "name": "python2"
  },
  "language_info": {
   "codemirror_mode": {
    "name": "ipython",
    "version": 2
   },
   "file_extension": ".py",
   "mimetype": "text/x-python",
   "name": "python",
   "nbconvert_exporter": "python",
   "pygments_lexer": "ipython2",
   "version": "2.7.5"
  }
 },
 "nbformat": 4,
 "nbformat_minor": 0
}
